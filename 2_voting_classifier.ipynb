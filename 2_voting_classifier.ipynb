{
 "cells": [
  {
   "attachments": {},
   "cell_type": "markdown",
   "metadata": {},
   "source": [
    "# Spaceship Titanic dataset (Kaggle)\n",
    "\n",
    "The models implemented here use the following predictors:\n",
    "\n",
    "- `Age`: The age of the passenger. [`numeric`]\n",
    "- `RoomService`, `FoodCourt`, `ShoppingMall`, `Spa`, `VRDeck`: Amount the passenger has billed at each of the Spaceship Titanic's many luxury amenities. [`numeric`]\n",
    "- `HomePlanet`: The planet the passenger departed from, typically their planet of permanent residence. [`categorical`]\n",
    "- `CryoSleep`: Indicates whether the passenger was put into suspended animation. Passengers in cryosleep are confined to their cabins. [`categorical`]\n",
    "- `Destination`: The planet the passenger will be debarking to. [`categorical`]\n",
    "- `VIP`: Whether the passenger has paid for special VIP service during the voyage. [`categorical`]\n",
    "- `group_size_bin`: The size of the group the passenger is travellin with (category: \"g1\", \"g2\", \"g3\", \"g4more\", for 1, 2, 3 or 4-or-more, respectively). [`categorical`]\n",
    "- `deck`: The deck information from **Cabin** column. [`categorical`]\n",
    "- `side`: The side information from **Cabin** column. [`categorical`]\n",
    "\n",
    "\\\n",
    "Label:\n",
    "- `Transported`: Whether the passenger was transported to another dimension. [`binary`]\n",
    "\n",
    "\\\n",
    "The best model is a **SVM Classifier** with **polynomial Kernel** (but it is still very similar to the results of the other models).\n",
    "\n",
    "The performance of the best model on the test set is:\n",
    "- Accuracy is 0.81.\n",
    "- When the model claims a passenger was transported to another dimension, it is correct 81.3 % of the time (precision).\n",
    "- The model detects 82.00 % of the passengers that were transported to another dimension (recall).\n",
    "- The F1 score is 81.70.\n"
   ]
  },
  {
   "attachments": {},
   "cell_type": "markdown",
   "metadata": {},
   "source": [
    "# Load libraries"
   ]
  },
  {
   "cell_type": "code",
   "execution_count": 1,
   "metadata": {},
   "outputs": [
    {
     "name": "stdout",
     "output_type": "stream",
     "text": [
      "sys: 3.9.5 (tags/v3.9.5:0a7dcbd, May  3 2021, 17:27:52) [MSC v.1928 64 bit (AMD64)]\n",
      "numpy: 1.24.2\n",
      "scipy: 1.10.1\n",
      "pandas: 1.5.3\n",
      "matplotlib: 3.7.1\n"
     ]
    }
   ],
   "source": [
    "from pathlib import Path\n",
    "import sys\n",
    "import numpy as np\n",
    "import scipy.stats\n",
    "import pandas as pd\n",
    "import matplotlib.pyplot as plt\n",
    "import matplotlib\n",
    "from sklearn.ensemble import VotingClassifier\n",
    "from sklearn.linear_model import LogisticRegression\n",
    "from sklearn.svm import SVC\n",
    "from sklearn.tree import DecisionTreeClassifier\n",
    "from sklearn.impute import SimpleImputer\n",
    "from sklearn.compose import ColumnTransformer\n",
    "from sklearn.base import BaseEstimator, TransformerMixin\n",
    "from sklearn.pipeline import Pipeline\n",
    "from sklearn.preprocessing import StandardScaler, OneHotEncoder\n",
    "from sklearn.metrics import accuracy_score, precision_score, recall_score, f1_score\n",
    "from sklearn.metrics import ConfusionMatrixDisplay, confusion_matrix\n",
    "from sklearn.model_selection import cross_val_score\n",
    "# from sklearn.model_selection import GridSearchCV\n",
    "\n",
    "np.random.seed(123)\n",
    "\n",
    "# Python version\n",
    "print(f\"sys: {sys.version}\")\n",
    "print(f\"numpy: {np.__version__}\")\n",
    "print(f\"scipy: {scipy.__version__}\")\n",
    "print(f\"pandas: {pd.__version__}\")\n",
    "print(f\"matplotlib: {matplotlib.__version__}\")"
   ]
  },
  {
   "attachments": {},
   "cell_type": "markdown",
   "metadata": {},
   "source": [
    "# Load data"
   ]
  },
  {
   "cell_type": "code",
   "execution_count": 2,
   "metadata": {},
   "outputs": [
    {
     "name": "stdout",
     "output_type": "stream",
     "text": [
      "Shape: (6954, 14)\n"
     ]
    }
   ],
   "source": [
    "# Load the dataset\n",
    "def load_ds(path: Path, filename: str) -> pd.DataFrame:\n",
    "    \"\"\"Read the dataset csv file as a pandas dataframe.\"\"\"\n",
    "    return pd.read_csv(path / filename)\n",
    "\n",
    "# Load dataset\n",
    "dataset_path = Path().absolute() / \"data\"\n",
    "filename = \"X_y_train.csv\"\n",
    "X_y_train = load_ds(dataset_path, filename)\n",
    "print(f\"Shape: {X_y_train.shape}\")"
   ]
  },
  {
   "cell_type": "code",
   "execution_count": 3,
   "metadata": {},
   "outputs": [
    {
     "name": "stdout",
     "output_type": "stream",
     "text": [
      "Index(['PassengerId', 'HomePlanet', 'CryoSleep', 'Cabin', 'Destination', 'Age',\n",
      "       'VIP', 'RoomService', 'FoodCourt', 'ShoppingMall', 'Spa', 'VRDeck',\n",
      "       'Name', 'Transported'],\n",
      "      dtype='object')\n"
     ]
    }
   ],
   "source": [
    "print(X_y_train.columns)"
   ]
  },
  {
   "cell_type": "code",
   "execution_count": 4,
   "metadata": {},
   "outputs": [
    {
     "name": "stdout",
     "output_type": "stream",
     "text": [
      "<class 'pandas.core.frame.DataFrame'>\n",
      "RangeIndex: 6954 entries, 0 to 6953\n",
      "Data columns (total 14 columns):\n",
      " #   Column        Non-Null Count  Dtype  \n",
      "---  ------        --------------  -----  \n",
      " 0   PassengerId   6954 non-null   object \n",
      " 1   HomePlanet    6789 non-null   object \n",
      " 2   CryoSleep     6782 non-null   object \n",
      " 3   Cabin         6795 non-null   object \n",
      " 4   Destination   6805 non-null   object \n",
      " 5   Age           6809 non-null   float64\n",
      " 6   VIP           6800 non-null   object \n",
      " 7   RoomService   6801 non-null   float64\n",
      " 8   FoodCourt     6796 non-null   float64\n",
      " 9   ShoppingMall  6788 non-null   float64\n",
      " 10  Spa           6808 non-null   float64\n",
      " 11  VRDeck        6809 non-null   float64\n",
      " 12  Name          6786 non-null   object \n",
      " 13  Transported   6954 non-null   bool   \n",
      "dtypes: bool(1), float64(6), object(7)\n",
      "memory usage: 713.2+ KB\n"
     ]
    }
   ],
   "source": [
    "X_y_train.info()"
   ]
  },
  {
   "cell_type": "code",
   "execution_count": 5,
   "metadata": {},
   "outputs": [
    {
     "data": {
      "text/html": [
       "<div>\n",
       "<style scoped>\n",
       "    .dataframe tbody tr th:only-of-type {\n",
       "        vertical-align: middle;\n",
       "    }\n",
       "\n",
       "    .dataframe tbody tr th {\n",
       "        vertical-align: top;\n",
       "    }\n",
       "\n",
       "    .dataframe thead th {\n",
       "        text-align: right;\n",
       "    }\n",
       "</style>\n",
       "<table border=\"1\" class=\"dataframe\">\n",
       "  <thead>\n",
       "    <tr style=\"text-align: right;\">\n",
       "      <th></th>\n",
       "      <th>PassengerId</th>\n",
       "      <th>HomePlanet</th>\n",
       "      <th>CryoSleep</th>\n",
       "      <th>Cabin</th>\n",
       "      <th>Destination</th>\n",
       "      <th>Age</th>\n",
       "      <th>VIP</th>\n",
       "      <th>RoomService</th>\n",
       "      <th>FoodCourt</th>\n",
       "      <th>ShoppingMall</th>\n",
       "      <th>Spa</th>\n",
       "      <th>VRDeck</th>\n",
       "      <th>Name</th>\n",
       "      <th>Transported</th>\n",
       "    </tr>\n",
       "  </thead>\n",
       "  <tbody>\n",
       "    <tr>\n",
       "      <th>0</th>\n",
       "      <td>7527_01</td>\n",
       "      <td>Earth</td>\n",
       "      <td>False</td>\n",
       "      <td>F/1561/P</td>\n",
       "      <td>TRAPPIST-1e</td>\n",
       "      <td>18.0</td>\n",
       "      <td>False</td>\n",
       "      <td>0.0</td>\n",
       "      <td>732.0</td>\n",
       "      <td>2.0</td>\n",
       "      <td>13.0</td>\n",
       "      <td>47.0</td>\n",
       "      <td>Elle Flowensley</td>\n",
       "      <td>True</td>\n",
       "    </tr>\n",
       "    <tr>\n",
       "      <th>1</th>\n",
       "      <td>7083_01</td>\n",
       "      <td>Europa</td>\n",
       "      <td>True</td>\n",
       "      <td>C/259/S</td>\n",
       "      <td>TRAPPIST-1e</td>\n",
       "      <td>32.0</td>\n",
       "      <td>False</td>\n",
       "      <td>0.0</td>\n",
       "      <td>0.0</td>\n",
       "      <td>0.0</td>\n",
       "      <td>0.0</td>\n",
       "      <td>0.0</td>\n",
       "      <td>Betenar Pirejus</td>\n",
       "      <td>True</td>\n",
       "    </tr>\n",
       "    <tr>\n",
       "      <th>2</th>\n",
       "      <td>2755_01</td>\n",
       "      <td>Europa</td>\n",
       "      <td>True</td>\n",
       "      <td>B/85/P</td>\n",
       "      <td>55 Cancri e</td>\n",
       "      <td>36.0</td>\n",
       "      <td>False</td>\n",
       "      <td>0.0</td>\n",
       "      <td>0.0</td>\n",
       "      <td>0.0</td>\n",
       "      <td>0.0</td>\n",
       "      <td>0.0</td>\n",
       "      <td>Beneba Glousspidy</td>\n",
       "      <td>True</td>\n",
       "    </tr>\n",
       "    <tr>\n",
       "      <th>3</th>\n",
       "      <td>4127_01</td>\n",
       "      <td>Europa</td>\n",
       "      <td>NaN</td>\n",
       "      <td>B/130/P</td>\n",
       "      <td>TRAPPIST-1e</td>\n",
       "      <td>23.0</td>\n",
       "      <td>False</td>\n",
       "      <td>0.0</td>\n",
       "      <td>0.0</td>\n",
       "      <td>0.0</td>\n",
       "      <td>0.0</td>\n",
       "      <td>NaN</td>\n",
       "      <td>Dsch Ainserfle</td>\n",
       "      <td>True</td>\n",
       "    </tr>\n",
       "    <tr>\n",
       "      <th>4</th>\n",
       "      <td>7972_02</td>\n",
       "      <td>Europa</td>\n",
       "      <td>False</td>\n",
       "      <td>B/260/P</td>\n",
       "      <td>TRAPPIST-1e</td>\n",
       "      <td>35.0</td>\n",
       "      <td>False</td>\n",
       "      <td>NaN</td>\n",
       "      <td>246.0</td>\n",
       "      <td>25.0</td>\n",
       "      <td>42.0</td>\n",
       "      <td>3730.0</td>\n",
       "      <td>Atinon Cattyried</td>\n",
       "      <td>False</td>\n",
       "    </tr>\n",
       "  </tbody>\n",
       "</table>\n",
       "</div>"
      ],
      "text/plain": [
       "  PassengerId HomePlanet CryoSleep     Cabin  Destination   Age    VIP  \\\n",
       "0     7527_01      Earth     False  F/1561/P  TRAPPIST-1e  18.0  False   \n",
       "1     7083_01     Europa      True   C/259/S  TRAPPIST-1e  32.0  False   \n",
       "2     2755_01     Europa      True    B/85/P  55 Cancri e  36.0  False   \n",
       "3     4127_01     Europa       NaN   B/130/P  TRAPPIST-1e  23.0  False   \n",
       "4     7972_02     Europa     False   B/260/P  TRAPPIST-1e  35.0  False   \n",
       "\n",
       "   RoomService  FoodCourt  ShoppingMall   Spa  VRDeck               Name  \\\n",
       "0          0.0      732.0           2.0  13.0    47.0    Elle Flowensley   \n",
       "1          0.0        0.0           0.0   0.0     0.0    Betenar Pirejus   \n",
       "2          0.0        0.0           0.0   0.0     0.0  Beneba Glousspidy   \n",
       "3          0.0        0.0           0.0   0.0     NaN     Dsch Ainserfle   \n",
       "4          NaN      246.0          25.0  42.0  3730.0   Atinon Cattyried   \n",
       "\n",
       "   Transported  \n",
       "0         True  \n",
       "1         True  \n",
       "2         True  \n",
       "3         True  \n",
       "4        False  "
      ]
     },
     "execution_count": 5,
     "metadata": {},
     "output_type": "execute_result"
    }
   ],
   "source": [
    "X_y_train.head(5)"
   ]
  },
  {
   "cell_type": "code",
   "execution_count": 6,
   "metadata": {},
   "outputs": [
    {
     "name": "stdout",
     "output_type": "stream",
     "text": [
      "shape X_y_train: (6954, 14)\n"
     ]
    }
   ],
   "source": [
    "print(f\"shape X_y_train: {X_y_train.shape}\")"
   ]
  },
  {
   "cell_type": "code",
   "execution_count": 7,
   "metadata": {},
   "outputs": [
    {
     "name": "stdout",
     "output_type": "stream",
     "text": [
      "shape X_train: (6954, 13)\n",
      "shape y_train: (6954,)\n"
     ]
    }
   ],
   "source": [
    "# NOTE: \"drop()\" create a copy of the data original dataset\n",
    "X_train = X_y_train.drop([\"Transported\"], axis=1)\n",
    "y_train = X_y_train.loc[:, \"Transported\"].copy()\n",
    "\n",
    "print(f\"shape X_train: {X_train.shape}\")\n",
    "print(f\"shape y_train: {y_train.shape}\")"
   ]
  },
  {
   "attachments": {},
   "cell_type": "markdown",
   "metadata": {},
   "source": [
    "# Define functions"
   ]
  },
  {
   "cell_type": "code",
   "execution_count": 8,
   "metadata": {},
   "outputs": [],
   "source": [
    "def add_metrics(dictionary, y, y_pred, mod_name):\n",
    "    # dictionary: a dictionary to which the metrics are added\n",
    "\n",
    "    acc = accuracy_score(y, y_pred)\n",
    "    cm = confusion_matrix(y, y_pred)\n",
    "    precision = precision_score(y, y_pred)\n",
    "    recall = recall_score(y, y_pred)\n",
    "    f1 = f1_score(y, y_pred)\n",
    "\n",
    "    dictionary[mod_name] = {\n",
    "        \"accuracy\": np.round(acc, 3),\n",
    "        \"confusion_matrix\": cm,\n",
    "        \"precision\": np.round(precision, 3),\n",
    "        \"recall\": np.round(recall, 3),\n",
    "        \"f1_score\": np.round(f1, 3)\n",
    "    }\n",
    "\n",
    "    return dictionary\n",
    "\n",
    "\n",
    "def print_metrics(m):\n",
    "    print(f\"Accuracy is {m['accuracy']:.2f}.\")\n",
    "    print(f\"When the model claims a passenger was transported to another dimension, it is correct {m['precision']*100} % of the time (precision).\")\n",
    "    print(f\"The model detects {m['recall']*100:.2f} % of the passengers that were transported to another dimension (recall).\")\n",
    "    print(f\"The F1 score is {m['f1_score']*100:.2f}.\")\n",
    "\n",
    "\n",
    "def display_cm(cm):\n",
    "    # cm: a confusion matrix\n",
    "    disp = ConfusionMatrixDisplay(confusion_matrix=cm)\n",
    "    disp.plot()\n",
    "    plt.show()\n",
    "\n",
    "\n",
    "def compare_models(models):\n",
    "    mods_table = pd.DataFrame.from_dict(models)\n",
    "    return mods_table.loc[[\"accuracy\", \"precision\", \"recall\", \"f1_score\"],:]"
   ]
  },
  {
   "attachments": {},
   "cell_type": "markdown",
   "metadata": {},
   "source": [
    "# Define pipelines"
   ]
  },
  {
   "cell_type": "code",
   "execution_count": 9,
   "metadata": {},
   "outputs": [],
   "source": [
    "# Define columns to convert\n",
    "c_cat = [\"HomePlanet\", \"Cabin\", \"Destination\"]\n",
    "c_str = [\"PassengerId\", \"Name\"]\n",
    "# c_bool = [\"CryoSleep\", \"VIP\"]"
   ]
  },
  {
   "cell_type": "code",
   "execution_count": 10,
   "metadata": {},
   "outputs": [],
   "source": [
    "# Function to convert data type & add column\n",
    "def convert_df(df_in: pd.DataFrame,\n",
    "               col_cat: list[str],\n",
    "               col_str: list[str],\n",
    "               # col_bool: list[str]\n",
    " ) -> pd.DataFrame:\n",
    "    \"\"\"Converts the specified columns to categorical, string or bool types.\"\"\"\n",
    "\n",
    "    df_out = df_in.copy()\n",
    "\n",
    "    for column in col_cat:\n",
    "        df_out[column] = df_out[column].astype(\"category\")\n",
    "    \n",
    "    for column in col_str:\n",
    "        df_out[column] = df_out[column].astype(\"string\")\n",
    "\n",
    "    # NOTE: EXCLUDED because \"SimpleImputer\" does not support data with dtype bool\n",
    "    # for column in col_bool:\n",
    "    #     df_out[column] = df_out[column].astype(\"bool\")\n",
    "\n",
    "    return df_out"
   ]
  },
  {
   "attachments": {},
   "cell_type": "markdown",
   "metadata": {},
   "source": [
    "## CombinedAttributesAdder\n",
    "\n",
    "Define a class that transforms and select various features."
   ]
  },
  {
   "cell_type": "code",
   "execution_count": 11,
   "metadata": {},
   "outputs": [],
   "source": [
    "# TransformerMixin: add method \".fit_transform()\"\n",
    "# BaseEstimator: add methods \".get_params()\" and \".set_params()\"\n",
    "# We need 3 methods:\n",
    "# 1) .fit()\n",
    "# 2) .transform()\n",
    "# 3) .fit_transform() (provided by \"TransformerMixin\")\n",
    "class CombinedAttributesAdder(BaseEstimator, TransformerMixin):\n",
    "    # avoid '*args' or \"**kargs\" in \"__init__\"\n",
    "    def __init__(self):\n",
    "        pass\n",
    "\n",
    "    # fit is needed later for the pipilene\n",
    "    def fit(self, X, y=None):\n",
    "        return self\n",
    "    \n",
    "    def transform(self, X):\n",
    "        # Convert column type\n",
    "        X = convert_df(\n",
    "            df_in=X,\n",
    "            col_cat=c_cat,\n",
    "            col_str=c_str,\n",
    "            #col_bool=c_bool,\n",
    "        )\n",
    "\n",
    "        # Add \"group\" and \"group_n\"\n",
    "        X[[\"group\", \"group_n\"]] = X.PassengerId.str.split(\"_\", expand=True)\n",
    "\n",
    "        # Add \"group_size\" (a column with the size of the group)\n",
    "        count_group_size = (\n",
    "             X\n",
    "             .value_counts([\"group\"], sort=False)\n",
    "             .rename(\"group_size\")\n",
    "             .reset_index()\n",
    "        )\n",
    "        X = pd.merge(X, count_group_size, how=\"left\", on=\"group\")\n",
    "\n",
    "        # Add \"group_size_bin\"\n",
    "        X.loc[:, \"group_size_bin\"] = np.nan\n",
    "        X.loc[X.group_size == 1, \"group_size_bin\"] = \"g1\"\n",
    "        X.loc[X.group_size == 2, \"group_size_bin\"] = \"g2\"\n",
    "        X.loc[X.group_size == 3, \"group_size_bin\"] = \"g3\"\n",
    "        X.loc[X.group_size >= 4, \"group_size_bin\"] = \"g4more\"\n",
    "        X[\"group_size_bin\"] = X[\"group_size_bin\"].astype(\"category\")\n",
    "\n",
    "        # Add \"deck\", \"num\" and \"side\"\n",
    "        X[[\"deck\", \"num\", \"side\"]] = X.Cabin.str.split(\"/\", expand=True)\n",
    "        X[\"deck\"] = X[\"deck\"].astype(\"category\")\n",
    "        X[\"num\"] = X[\"num\"].astype(\"string\")\n",
    "        X[\"side\"] = X[\"side\"].astype(\"category\")\n",
    "        \n",
    "        # Drop unused columns\n",
    "        cols_to_drop = ['PassengerId', 'Cabin', 'Name', 'group',\n",
    "                        'group_n', 'group_size', 'num']\n",
    "        X.drop(columns=cols_to_drop, inplace=True)\n",
    "\n",
    "        return X"
   ]
  },
  {
   "attachments": {},
   "cell_type": "markdown",
   "metadata": {},
   "source": [
    "## num_pipeline\n",
    "\n",
    "It preprocesses the numerical attributes with `SimpleImputer()` and `StandardScaler()`."
   ]
  },
  {
   "cell_type": "code",
   "execution_count": 12,
   "metadata": {},
   "outputs": [],
   "source": [
    "# All (except the last) estimators must be transformers (i.e., they\n",
    "# must have a \".fit_transform()\" method).\n",
    "num_pipeline = Pipeline([\n",
    "    # replace NA with mean\n",
    "    ('imputer', SimpleImputer(strategy='mean')),\n",
    "    # standardize the variables: z = (x - mean) / SD\n",
    "    ('std_scaler', StandardScaler())])"
   ]
  },
  {
   "attachments": {},
   "cell_type": "markdown",
   "metadata": {},
   "source": [
    "## cat_pipeline\n",
    "\n",
    "It preprocesses the categorical attributed with `SimpleImputer()` and `OneHotEncoder()`."
   ]
  },
  {
   "cell_type": "code",
   "execution_count": 13,
   "metadata": {},
   "outputs": [],
   "source": [
    "# All (except the last) estimators must be transformers (i.e., they\n",
    "# must have a \".fit_transform()\" method).\n",
    "cat_pipeline = Pipeline([\n",
    "    # replace NA with mode\n",
    "    ('imputer', SimpleImputer(strategy='most_frequent')),\n",
    "    # apply \"OneHotEncoder()\"\n",
    "    ('one_hot', OneHotEncoder())])"
   ]
  },
  {
   "attachments": {},
   "cell_type": "markdown",
   "metadata": {},
   "source": [
    "## Combine pipelines"
   ]
  },
  {
   "cell_type": "code",
   "execution_count": 14,
   "metadata": {},
   "outputs": [],
   "source": [
    "list_num_attribs = [\"Age\", \"RoomService\", \"FoodCourt\", \"ShoppingMall\", \"Spa\", \"VRDeck\"]\n",
    "list_cat_attribs = [\"HomePlanet\", \"CryoSleep\", \"Destination\", \"VIP\", \"group_size_bin\", \"deck\", \"side\"]"
   ]
  },
  {
   "cell_type": "code",
   "execution_count": 15,
   "metadata": {},
   "outputs": [],
   "source": [
    "# ColumnTransformer requires tuples with:\n",
    "# - a name\n",
    "# - a transformer\n",
    "# - a list of names (or indices) of columns to which the transformer is applied\n",
    "\n",
    "cols_transformer = ColumnTransformer([\n",
    "    # apply \"num_pipeline\" to numerical columns\n",
    "    ('num', num_pipeline, list_num_attribs),\n",
    "    # apply \"cat_pipeline\" to categorical columns\n",
    "    ('cat', cat_pipeline, list_cat_attribs)])"
   ]
  },
  {
   "cell_type": "code",
   "execution_count": 16,
   "metadata": {},
   "outputs": [],
   "source": [
    "full_pipeline = Pipeline([\n",
    "    # transform/add columns\n",
    "    ('attribs_adder', CombinedAttributesAdder()),\n",
    "    # Transform numerical and categorical attributes\n",
    "    (\"cols_transformer\", cols_transformer)])"
   ]
  },
  {
   "cell_type": "code",
   "execution_count": 17,
   "metadata": {},
   "outputs": [
    {
     "name": "stdout",
     "output_type": "stream",
     "text": [
      "{'memory': None, 'steps': [('attribs_adder', CombinedAttributesAdder()), ('cols_transformer', ColumnTransformer(transformers=[('num',\n",
      "                                 Pipeline(steps=[('imputer', SimpleImputer()),\n",
      "                                                 ('std_scaler',\n",
      "                                                  StandardScaler())]),\n",
      "                                 ['Age', 'RoomService', 'FoodCourt',\n",
      "                                  'ShoppingMall', 'Spa', 'VRDeck']),\n",
      "                                ('cat',\n",
      "                                 Pipeline(steps=[('imputer',\n",
      "                                                  SimpleImputer(strategy='most_frequent')),\n",
      "                                                 ('one_hot', OneHotEncoder())]),\n",
      "                                 ['HomePlanet', 'CryoSleep', 'Destination',\n",
      "                                  'VIP', 'group_size_bin', 'deck', 'side'])]))], 'verbose': False, 'attribs_adder': CombinedAttributesAdder(), 'cols_transformer': ColumnTransformer(transformers=[('num',\n",
      "                                 Pipeline(steps=[('imputer', SimpleImputer()),\n",
      "                                                 ('std_scaler',\n",
      "                                                  StandardScaler())]),\n",
      "                                 ['Age', 'RoomService', 'FoodCourt',\n",
      "                                  'ShoppingMall', 'Spa', 'VRDeck']),\n",
      "                                ('cat',\n",
      "                                 Pipeline(steps=[('imputer',\n",
      "                                                  SimpleImputer(strategy='most_frequent')),\n",
      "                                                 ('one_hot', OneHotEncoder())]),\n",
      "                                 ['HomePlanet', 'CryoSleep', 'Destination',\n",
      "                                  'VIP', 'group_size_bin', 'deck', 'side'])]), 'cols_transformer__n_jobs': None, 'cols_transformer__remainder': 'drop', 'cols_transformer__sparse_threshold': 0.3, 'cols_transformer__transformer_weights': None, 'cols_transformer__transformers': [('num', Pipeline(steps=[('imputer', SimpleImputer()), ('std_scaler', StandardScaler())]), ['Age', 'RoomService', 'FoodCourt', 'ShoppingMall', 'Spa', 'VRDeck']), ('cat', Pipeline(steps=[('imputer', SimpleImputer(strategy='most_frequent')),\n",
      "                ('one_hot', OneHotEncoder())]), ['HomePlanet', 'CryoSleep', 'Destination', 'VIP', 'group_size_bin', 'deck', 'side'])], 'cols_transformer__verbose': False, 'cols_transformer__verbose_feature_names_out': True, 'cols_transformer__num': Pipeline(steps=[('imputer', SimpleImputer()), ('std_scaler', StandardScaler())]), 'cols_transformer__cat': Pipeline(steps=[('imputer', SimpleImputer(strategy='most_frequent')),\n",
      "                ('one_hot', OneHotEncoder())]), 'cols_transformer__num__memory': None, 'cols_transformer__num__steps': [('imputer', SimpleImputer()), ('std_scaler', StandardScaler())], 'cols_transformer__num__verbose': False, 'cols_transformer__num__imputer': SimpleImputer(), 'cols_transformer__num__std_scaler': StandardScaler(), 'cols_transformer__num__imputer__add_indicator': False, 'cols_transformer__num__imputer__copy': True, 'cols_transformer__num__imputer__fill_value': None, 'cols_transformer__num__imputer__keep_empty_features': False, 'cols_transformer__num__imputer__missing_values': nan, 'cols_transformer__num__imputer__strategy': 'mean', 'cols_transformer__num__imputer__verbose': 'deprecated', 'cols_transformer__num__std_scaler__copy': True, 'cols_transformer__num__std_scaler__with_mean': True, 'cols_transformer__num__std_scaler__with_std': True, 'cols_transformer__cat__memory': None, 'cols_transformer__cat__steps': [('imputer', SimpleImputer(strategy='most_frequent')), ('one_hot', OneHotEncoder())], 'cols_transformer__cat__verbose': False, 'cols_transformer__cat__imputer': SimpleImputer(strategy='most_frequent'), 'cols_transformer__cat__one_hot': OneHotEncoder(), 'cols_transformer__cat__imputer__add_indicator': False, 'cols_transformer__cat__imputer__copy': True, 'cols_transformer__cat__imputer__fill_value': None, 'cols_transformer__cat__imputer__keep_empty_features': False, 'cols_transformer__cat__imputer__missing_values': nan, 'cols_transformer__cat__imputer__strategy': 'most_frequent', 'cols_transformer__cat__imputer__verbose': 'deprecated', 'cols_transformer__cat__one_hot__categories': 'auto', 'cols_transformer__cat__one_hot__drop': None, 'cols_transformer__cat__one_hot__dtype': <class 'numpy.float64'>, 'cols_transformer__cat__one_hot__handle_unknown': 'error', 'cols_transformer__cat__one_hot__max_categories': None, 'cols_transformer__cat__one_hot__min_frequency': None, 'cols_transformer__cat__one_hot__sparse': 'deprecated', 'cols_transformer__cat__one_hot__sparse_output': True}\n"
     ]
    }
   ],
   "source": [
    "# print(full_pipeline.get_params().keys())\n",
    "# print(full_pipeline.get_params().items())\n",
    "print(full_pipeline.get_params())\n"
   ]
  },
  {
   "cell_type": "code",
   "execution_count": 18,
   "metadata": {},
   "outputs": [
    {
     "name": "stdout",
     "output_type": "stream",
     "text": [
      "memory\n",
      "steps\n",
      "verbose\n",
      "attribs_adder\n",
      "cols_transformer\n",
      "cols_transformer__n_jobs\n",
      "cols_transformer__remainder\n",
      "cols_transformer__sparse_threshold\n",
      "cols_transformer__transformer_weights\n",
      "cols_transformer__transformers\n",
      "cols_transformer__verbose\n",
      "cols_transformer__verbose_feature_names_out\n",
      "cols_transformer__num\n",
      "cols_transformer__cat\n",
      "cols_transformer__num__memory\n",
      "cols_transformer__num__steps\n",
      "cols_transformer__num__verbose\n",
      "cols_transformer__num__imputer\n",
      "cols_transformer__num__std_scaler\n",
      "cols_transformer__num__imputer__add_indicator\n",
      "cols_transformer__num__imputer__copy\n",
      "cols_transformer__num__imputer__fill_value\n",
      "cols_transformer__num__imputer__keep_empty_features\n",
      "cols_transformer__num__imputer__missing_values\n",
      "cols_transformer__num__imputer__strategy\n",
      "cols_transformer__num__imputer__verbose\n",
      "cols_transformer__num__std_scaler__copy\n",
      "cols_transformer__num__std_scaler__with_mean\n",
      "cols_transformer__num__std_scaler__with_std\n",
      "cols_transformer__cat__memory\n",
      "cols_transformer__cat__steps\n",
      "cols_transformer__cat__verbose\n",
      "cols_transformer__cat__imputer\n",
      "cols_transformer__cat__one_hot\n",
      "cols_transformer__cat__imputer__add_indicator\n",
      "cols_transformer__cat__imputer__copy\n",
      "cols_transformer__cat__imputer__fill_value\n",
      "cols_transformer__cat__imputer__keep_empty_features\n",
      "cols_transformer__cat__imputer__missing_values\n",
      "cols_transformer__cat__imputer__strategy\n",
      "cols_transformer__cat__imputer__verbose\n",
      "cols_transformer__cat__one_hot__categories\n",
      "cols_transformer__cat__one_hot__drop\n",
      "cols_transformer__cat__one_hot__dtype\n",
      "cols_transformer__cat__one_hot__handle_unknown\n",
      "cols_transformer__cat__one_hot__max_categories\n",
      "cols_transformer__cat__one_hot__min_frequency\n",
      "cols_transformer__cat__one_hot__sparse\n",
      "cols_transformer__cat__one_hot__sparse_output\n"
     ]
    }
   ],
   "source": [
    "for i in full_pipeline.get_params().keys():\n",
    "    print(i)"
   ]
  },
  {
   "attachments": {},
   "cell_type": "markdown",
   "metadata": {},
   "source": [
    "# Voting Classifier"
   ]
  },
  {
   "cell_type": "code",
   "execution_count": 19,
   "metadata": {},
   "outputs": [],
   "source": [
    "log_clf = LogisticRegression(random_state=123)\n",
    "svm_pk_clf = SVC(kernel=\"poly\", degree=3)\n",
    "tree_clf = DecisionTreeClassifier(max_depth=9, min_samples_leaf=15, random_state=584)\n",
    "\n",
    "vot_clf = VotingClassifier(\n",
    "    estimators=[\n",
    "        (\"log_reg\", log_clf),\n",
    "        ('svm_pk', svm_pk_clf),\n",
    "        ('cat_lr', tree_clf)],\n",
    "    voting=\"hard\")\n",
    "\n",
    "clf_vc = Pipeline([\n",
    "    # Pre-processing pipeline\n",
    "    (\"preparation\", full_pipeline),\n",
    "    # Voting Classifier\n",
    "    (\"vc\", vot_clf)])"
   ]
  },
  {
   "cell_type": "code",
   "execution_count": 20,
   "metadata": {},
   "outputs": [
    {
     "data": {
      "text/html": [
       "<style>#sk-container-id-1 {color: black;background-color: white;}#sk-container-id-1 pre{padding: 0;}#sk-container-id-1 div.sk-toggleable {background-color: white;}#sk-container-id-1 label.sk-toggleable__label {cursor: pointer;display: block;width: 100%;margin-bottom: 0;padding: 0.3em;box-sizing: border-box;text-align: center;}#sk-container-id-1 label.sk-toggleable__label-arrow:before {content: \"▸\";float: left;margin-right: 0.25em;color: #696969;}#sk-container-id-1 label.sk-toggleable__label-arrow:hover:before {color: black;}#sk-container-id-1 div.sk-estimator:hover label.sk-toggleable__label-arrow:before {color: black;}#sk-container-id-1 div.sk-toggleable__content {max-height: 0;max-width: 0;overflow: hidden;text-align: left;background-color: #f0f8ff;}#sk-container-id-1 div.sk-toggleable__content pre {margin: 0.2em;color: black;border-radius: 0.25em;background-color: #f0f8ff;}#sk-container-id-1 input.sk-toggleable__control:checked~div.sk-toggleable__content {max-height: 200px;max-width: 100%;overflow: auto;}#sk-container-id-1 input.sk-toggleable__control:checked~label.sk-toggleable__label-arrow:before {content: \"▾\";}#sk-container-id-1 div.sk-estimator input.sk-toggleable__control:checked~label.sk-toggleable__label {background-color: #d4ebff;}#sk-container-id-1 div.sk-label input.sk-toggleable__control:checked~label.sk-toggleable__label {background-color: #d4ebff;}#sk-container-id-1 input.sk-hidden--visually {border: 0;clip: rect(1px 1px 1px 1px);clip: rect(1px, 1px, 1px, 1px);height: 1px;margin: -1px;overflow: hidden;padding: 0;position: absolute;width: 1px;}#sk-container-id-1 div.sk-estimator {font-family: monospace;background-color: #f0f8ff;border: 1px dotted black;border-radius: 0.25em;box-sizing: border-box;margin-bottom: 0.5em;}#sk-container-id-1 div.sk-estimator:hover {background-color: #d4ebff;}#sk-container-id-1 div.sk-parallel-item::after {content: \"\";width: 100%;border-bottom: 1px solid gray;flex-grow: 1;}#sk-container-id-1 div.sk-label:hover label.sk-toggleable__label {background-color: #d4ebff;}#sk-container-id-1 div.sk-serial::before {content: \"\";position: absolute;border-left: 1px solid gray;box-sizing: border-box;top: 0;bottom: 0;left: 50%;z-index: 0;}#sk-container-id-1 div.sk-serial {display: flex;flex-direction: column;align-items: center;background-color: white;padding-right: 0.2em;padding-left: 0.2em;position: relative;}#sk-container-id-1 div.sk-item {position: relative;z-index: 1;}#sk-container-id-1 div.sk-parallel {display: flex;align-items: stretch;justify-content: center;background-color: white;position: relative;}#sk-container-id-1 div.sk-item::before, #sk-container-id-1 div.sk-parallel-item::before {content: \"\";position: absolute;border-left: 1px solid gray;box-sizing: border-box;top: 0;bottom: 0;left: 50%;z-index: -1;}#sk-container-id-1 div.sk-parallel-item {display: flex;flex-direction: column;z-index: 1;position: relative;background-color: white;}#sk-container-id-1 div.sk-parallel-item:first-child::after {align-self: flex-end;width: 50%;}#sk-container-id-1 div.sk-parallel-item:last-child::after {align-self: flex-start;width: 50%;}#sk-container-id-1 div.sk-parallel-item:only-child::after {width: 0;}#sk-container-id-1 div.sk-dashed-wrapped {border: 1px dashed gray;margin: 0 0.4em 0.5em 0.4em;box-sizing: border-box;padding-bottom: 0.4em;background-color: white;}#sk-container-id-1 div.sk-label label {font-family: monospace;font-weight: bold;display: inline-block;line-height: 1.2em;}#sk-container-id-1 div.sk-label-container {text-align: center;}#sk-container-id-1 div.sk-container {/* jupyter's `normalize.less` sets `[hidden] { display: none; }` but bootstrap.min.css set `[hidden] { display: none !important; }` so we also need the `!important` here to be able to override the default hidden behavior on the sphinx rendered scikit-learn.org. See: https://github.com/scikit-learn/scikit-learn/issues/21755 */display: inline-block !important;position: relative;}#sk-container-id-1 div.sk-text-repr-fallback {display: none;}</style><div id=\"sk-container-id-1\" class=\"sk-top-container\"><div class=\"sk-text-repr-fallback\"><pre>Pipeline(steps=[(&#x27;preparation&#x27;,\n",
       "                 Pipeline(steps=[(&#x27;attribs_adder&#x27;, CombinedAttributesAdder()),\n",
       "                                 (&#x27;cols_transformer&#x27;,\n",
       "                                  ColumnTransformer(transformers=[(&#x27;num&#x27;,\n",
       "                                                                   Pipeline(steps=[(&#x27;imputer&#x27;,\n",
       "                                                                                    SimpleImputer()),\n",
       "                                                                                   (&#x27;std_scaler&#x27;,\n",
       "                                                                                    StandardScaler())]),\n",
       "                                                                   [&#x27;Age&#x27;,\n",
       "                                                                    &#x27;RoomService&#x27;,\n",
       "                                                                    &#x27;FoodCourt&#x27;,\n",
       "                                                                    &#x27;ShoppingMall&#x27;,\n",
       "                                                                    &#x27;Spa&#x27;,\n",
       "                                                                    &#x27;VRDeck&#x27;]),\n",
       "                                                                  (&#x27;cat&#x27;,\n",
       "                                                                   Pipeline(steps=[(&#x27;imputer&#x27;,\n",
       "                                                                                    SimpleImputer(strategy=&#x27;most_frequent&#x27;)),\n",
       "                                                                                   (&#x27;one_hot&#x27;,\n",
       "                                                                                    OneHotEncoder())]),\n",
       "                                                                   [&#x27;HomePlanet&#x27;,\n",
       "                                                                    &#x27;CryoSleep&#x27;,\n",
       "                                                                    &#x27;Destination&#x27;,\n",
       "                                                                    &#x27;VIP&#x27;,\n",
       "                                                                    &#x27;group_size_bin&#x27;,\n",
       "                                                                    &#x27;deck&#x27;,\n",
       "                                                                    &#x27;side&#x27;])]))])),\n",
       "                (&#x27;vc&#x27;,\n",
       "                 VotingClassifier(estimators=[(&#x27;log_reg&#x27;,\n",
       "                                               LogisticRegression(random_state=123)),\n",
       "                                              (&#x27;svm_pk&#x27;, SVC(kernel=&#x27;poly&#x27;)),\n",
       "                                              (&#x27;cat_lr&#x27;,\n",
       "                                               DecisionTreeClassifier(max_depth=9,\n",
       "                                                                      min_samples_leaf=15,\n",
       "                                                                      random_state=584))]))])</pre><b>In a Jupyter environment, please rerun this cell to show the HTML representation or trust the notebook. <br />On GitHub, the HTML representation is unable to render, please try loading this page with nbviewer.org.</b></div><div class=\"sk-container\" hidden><div class=\"sk-item sk-dashed-wrapped\"><div class=\"sk-label-container\"><div class=\"sk-label sk-toggleable\"><input class=\"sk-toggleable__control sk-hidden--visually\" id=\"sk-estimator-id-1\" type=\"checkbox\" ><label for=\"sk-estimator-id-1\" class=\"sk-toggleable__label sk-toggleable__label-arrow\">Pipeline</label><div class=\"sk-toggleable__content\"><pre>Pipeline(steps=[(&#x27;preparation&#x27;,\n",
       "                 Pipeline(steps=[(&#x27;attribs_adder&#x27;, CombinedAttributesAdder()),\n",
       "                                 (&#x27;cols_transformer&#x27;,\n",
       "                                  ColumnTransformer(transformers=[(&#x27;num&#x27;,\n",
       "                                                                   Pipeline(steps=[(&#x27;imputer&#x27;,\n",
       "                                                                                    SimpleImputer()),\n",
       "                                                                                   (&#x27;std_scaler&#x27;,\n",
       "                                                                                    StandardScaler())]),\n",
       "                                                                   [&#x27;Age&#x27;,\n",
       "                                                                    &#x27;RoomService&#x27;,\n",
       "                                                                    &#x27;FoodCourt&#x27;,\n",
       "                                                                    &#x27;ShoppingMall&#x27;,\n",
       "                                                                    &#x27;Spa&#x27;,\n",
       "                                                                    &#x27;VRDeck&#x27;]),\n",
       "                                                                  (&#x27;cat&#x27;,\n",
       "                                                                   Pipeline(steps=[(&#x27;imputer&#x27;,\n",
       "                                                                                    SimpleImputer(strategy=&#x27;most_frequent&#x27;)),\n",
       "                                                                                   (&#x27;one_hot&#x27;,\n",
       "                                                                                    OneHotEncoder())]),\n",
       "                                                                   [&#x27;HomePlanet&#x27;,\n",
       "                                                                    &#x27;CryoSleep&#x27;,\n",
       "                                                                    &#x27;Destination&#x27;,\n",
       "                                                                    &#x27;VIP&#x27;,\n",
       "                                                                    &#x27;group_size_bin&#x27;,\n",
       "                                                                    &#x27;deck&#x27;,\n",
       "                                                                    &#x27;side&#x27;])]))])),\n",
       "                (&#x27;vc&#x27;,\n",
       "                 VotingClassifier(estimators=[(&#x27;log_reg&#x27;,\n",
       "                                               LogisticRegression(random_state=123)),\n",
       "                                              (&#x27;svm_pk&#x27;, SVC(kernel=&#x27;poly&#x27;)),\n",
       "                                              (&#x27;cat_lr&#x27;,\n",
       "                                               DecisionTreeClassifier(max_depth=9,\n",
       "                                                                      min_samples_leaf=15,\n",
       "                                                                      random_state=584))]))])</pre></div></div></div><div class=\"sk-serial\"><div class=\"sk-item\"><div class=\"sk-label-container\"><div class=\"sk-label sk-toggleable\"><input class=\"sk-toggleable__control sk-hidden--visually\" id=\"sk-estimator-id-2\" type=\"checkbox\" ><label for=\"sk-estimator-id-2\" class=\"sk-toggleable__label sk-toggleable__label-arrow\">preparation: Pipeline</label><div class=\"sk-toggleable__content\"><pre>Pipeline(steps=[(&#x27;attribs_adder&#x27;, CombinedAttributesAdder()),\n",
       "                (&#x27;cols_transformer&#x27;,\n",
       "                 ColumnTransformer(transformers=[(&#x27;num&#x27;,\n",
       "                                                  Pipeline(steps=[(&#x27;imputer&#x27;,\n",
       "                                                                   SimpleImputer()),\n",
       "                                                                  (&#x27;std_scaler&#x27;,\n",
       "                                                                   StandardScaler())]),\n",
       "                                                  [&#x27;Age&#x27;, &#x27;RoomService&#x27;,\n",
       "                                                   &#x27;FoodCourt&#x27;, &#x27;ShoppingMall&#x27;,\n",
       "                                                   &#x27;Spa&#x27;, &#x27;VRDeck&#x27;]),\n",
       "                                                 (&#x27;cat&#x27;,\n",
       "                                                  Pipeline(steps=[(&#x27;imputer&#x27;,\n",
       "                                                                   SimpleImputer(strategy=&#x27;most_frequent&#x27;)),\n",
       "                                                                  (&#x27;one_hot&#x27;,\n",
       "                                                                   OneHotEncoder())]),\n",
       "                                                  [&#x27;HomePlanet&#x27;, &#x27;CryoSleep&#x27;,\n",
       "                                                   &#x27;Destination&#x27;, &#x27;VIP&#x27;,\n",
       "                                                   &#x27;group_size_bin&#x27;, &#x27;deck&#x27;,\n",
       "                                                   &#x27;side&#x27;])]))])</pre></div></div></div><div class=\"sk-serial\"><div class=\"sk-item\"><div class=\"sk-estimator sk-toggleable\"><input class=\"sk-toggleable__control sk-hidden--visually\" id=\"sk-estimator-id-3\" type=\"checkbox\" ><label for=\"sk-estimator-id-3\" class=\"sk-toggleable__label sk-toggleable__label-arrow\">CombinedAttributesAdder</label><div class=\"sk-toggleable__content\"><pre>CombinedAttributesAdder()</pre></div></div></div><div class=\"sk-item sk-dashed-wrapped\"><div class=\"sk-label-container\"><div class=\"sk-label sk-toggleable\"><input class=\"sk-toggleable__control sk-hidden--visually\" id=\"sk-estimator-id-4\" type=\"checkbox\" ><label for=\"sk-estimator-id-4\" class=\"sk-toggleable__label sk-toggleable__label-arrow\">cols_transformer: ColumnTransformer</label><div class=\"sk-toggleable__content\"><pre>ColumnTransformer(transformers=[(&#x27;num&#x27;,\n",
       "                                 Pipeline(steps=[(&#x27;imputer&#x27;, SimpleImputer()),\n",
       "                                                 (&#x27;std_scaler&#x27;,\n",
       "                                                  StandardScaler())]),\n",
       "                                 [&#x27;Age&#x27;, &#x27;RoomService&#x27;, &#x27;FoodCourt&#x27;,\n",
       "                                  &#x27;ShoppingMall&#x27;, &#x27;Spa&#x27;, &#x27;VRDeck&#x27;]),\n",
       "                                (&#x27;cat&#x27;,\n",
       "                                 Pipeline(steps=[(&#x27;imputer&#x27;,\n",
       "                                                  SimpleImputer(strategy=&#x27;most_frequent&#x27;)),\n",
       "                                                 (&#x27;one_hot&#x27;, OneHotEncoder())]),\n",
       "                                 [&#x27;HomePlanet&#x27;, &#x27;CryoSleep&#x27;, &#x27;Destination&#x27;,\n",
       "                                  &#x27;VIP&#x27;, &#x27;group_size_bin&#x27;, &#x27;deck&#x27;, &#x27;side&#x27;])])</pre></div></div></div><div class=\"sk-parallel\"><div class=\"sk-parallel-item\"><div class=\"sk-item\"><div class=\"sk-label-container\"><div class=\"sk-label sk-toggleable\"><input class=\"sk-toggleable__control sk-hidden--visually\" id=\"sk-estimator-id-5\" type=\"checkbox\" ><label for=\"sk-estimator-id-5\" class=\"sk-toggleable__label sk-toggleable__label-arrow\">num</label><div class=\"sk-toggleable__content\"><pre>[&#x27;Age&#x27;, &#x27;RoomService&#x27;, &#x27;FoodCourt&#x27;, &#x27;ShoppingMall&#x27;, &#x27;Spa&#x27;, &#x27;VRDeck&#x27;]</pre></div></div></div><div class=\"sk-serial\"><div class=\"sk-item\"><div class=\"sk-serial\"><div class=\"sk-item\"><div class=\"sk-estimator sk-toggleable\"><input class=\"sk-toggleable__control sk-hidden--visually\" id=\"sk-estimator-id-6\" type=\"checkbox\" ><label for=\"sk-estimator-id-6\" class=\"sk-toggleable__label sk-toggleable__label-arrow\">SimpleImputer</label><div class=\"sk-toggleable__content\"><pre>SimpleImputer()</pre></div></div></div><div class=\"sk-item\"><div class=\"sk-estimator sk-toggleable\"><input class=\"sk-toggleable__control sk-hidden--visually\" id=\"sk-estimator-id-7\" type=\"checkbox\" ><label for=\"sk-estimator-id-7\" class=\"sk-toggleable__label sk-toggleable__label-arrow\">StandardScaler</label><div class=\"sk-toggleable__content\"><pre>StandardScaler()</pre></div></div></div></div></div></div></div></div><div class=\"sk-parallel-item\"><div class=\"sk-item\"><div class=\"sk-label-container\"><div class=\"sk-label sk-toggleable\"><input class=\"sk-toggleable__control sk-hidden--visually\" id=\"sk-estimator-id-8\" type=\"checkbox\" ><label for=\"sk-estimator-id-8\" class=\"sk-toggleable__label sk-toggleable__label-arrow\">cat</label><div class=\"sk-toggleable__content\"><pre>[&#x27;HomePlanet&#x27;, &#x27;CryoSleep&#x27;, &#x27;Destination&#x27;, &#x27;VIP&#x27;, &#x27;group_size_bin&#x27;, &#x27;deck&#x27;, &#x27;side&#x27;]</pre></div></div></div><div class=\"sk-serial\"><div class=\"sk-item\"><div class=\"sk-serial\"><div class=\"sk-item\"><div class=\"sk-estimator sk-toggleable\"><input class=\"sk-toggleable__control sk-hidden--visually\" id=\"sk-estimator-id-9\" type=\"checkbox\" ><label for=\"sk-estimator-id-9\" class=\"sk-toggleable__label sk-toggleable__label-arrow\">SimpleImputer</label><div class=\"sk-toggleable__content\"><pre>SimpleImputer(strategy=&#x27;most_frequent&#x27;)</pre></div></div></div><div class=\"sk-item\"><div class=\"sk-estimator sk-toggleable\"><input class=\"sk-toggleable__control sk-hidden--visually\" id=\"sk-estimator-id-10\" type=\"checkbox\" ><label for=\"sk-estimator-id-10\" class=\"sk-toggleable__label sk-toggleable__label-arrow\">OneHotEncoder</label><div class=\"sk-toggleable__content\"><pre>OneHotEncoder()</pre></div></div></div></div></div></div></div></div></div></div></div></div><div class=\"sk-item sk-dashed-wrapped\"><div class=\"sk-label-container\"><div class=\"sk-label sk-toggleable\"><input class=\"sk-toggleable__control sk-hidden--visually\" id=\"sk-estimator-id-11\" type=\"checkbox\" ><label for=\"sk-estimator-id-11\" class=\"sk-toggleable__label sk-toggleable__label-arrow\">vc: VotingClassifier</label><div class=\"sk-toggleable__content\"><pre>VotingClassifier(estimators=[(&#x27;log_reg&#x27;, LogisticRegression(random_state=123)),\n",
       "                             (&#x27;svm_pk&#x27;, SVC(kernel=&#x27;poly&#x27;)),\n",
       "                             (&#x27;cat_lr&#x27;,\n",
       "                              DecisionTreeClassifier(max_depth=9,\n",
       "                                                     min_samples_leaf=15,\n",
       "                                                     random_state=584))])</pre></div></div></div><div class=\"sk-parallel\"><div class=\"sk-parallel-item\"><div class=\"sk-item\"><div class=\"sk-label-container\"><div class=\"sk-label sk-toggleable\"><label>log_reg</label></div></div><div class=\"sk-serial\"><div class=\"sk-item\"><div class=\"sk-estimator sk-toggleable\"><input class=\"sk-toggleable__control sk-hidden--visually\" id=\"sk-estimator-id-12\" type=\"checkbox\" ><label for=\"sk-estimator-id-12\" class=\"sk-toggleable__label sk-toggleable__label-arrow\">LogisticRegression</label><div class=\"sk-toggleable__content\"><pre>LogisticRegression(random_state=123)</pre></div></div></div></div></div></div><div class=\"sk-parallel-item\"><div class=\"sk-item\"><div class=\"sk-label-container\"><div class=\"sk-label sk-toggleable\"><label>svm_pk</label></div></div><div class=\"sk-serial\"><div class=\"sk-item\"><div class=\"sk-estimator sk-toggleable\"><input class=\"sk-toggleable__control sk-hidden--visually\" id=\"sk-estimator-id-13\" type=\"checkbox\" ><label for=\"sk-estimator-id-13\" class=\"sk-toggleable__label sk-toggleable__label-arrow\">SVC</label><div class=\"sk-toggleable__content\"><pre>SVC(kernel=&#x27;poly&#x27;)</pre></div></div></div></div></div></div><div class=\"sk-parallel-item\"><div class=\"sk-item\"><div class=\"sk-label-container\"><div class=\"sk-label sk-toggleable\"><label>cat_lr</label></div></div><div class=\"sk-serial\"><div class=\"sk-item\"><div class=\"sk-estimator sk-toggleable\"><input class=\"sk-toggleable__control sk-hidden--visually\" id=\"sk-estimator-id-14\" type=\"checkbox\" ><label for=\"sk-estimator-id-14\" class=\"sk-toggleable__label sk-toggleable__label-arrow\">DecisionTreeClassifier</label><div class=\"sk-toggleable__content\"><pre>DecisionTreeClassifier(max_depth=9, min_samples_leaf=15, random_state=584)</pre></div></div></div></div></div></div></div></div></div></div></div></div>"
      ],
      "text/plain": [
       "Pipeline(steps=[('preparation',\n",
       "                 Pipeline(steps=[('attribs_adder', CombinedAttributesAdder()),\n",
       "                                 ('cols_transformer',\n",
       "                                  ColumnTransformer(transformers=[('num',\n",
       "                                                                   Pipeline(steps=[('imputer',\n",
       "                                                                                    SimpleImputer()),\n",
       "                                                                                   ('std_scaler',\n",
       "                                                                                    StandardScaler())]),\n",
       "                                                                   ['Age',\n",
       "                                                                    'RoomService',\n",
       "                                                                    'FoodCourt',\n",
       "                                                                    'ShoppingMall',\n",
       "                                                                    'Spa',\n",
       "                                                                    'VRDeck']),\n",
       "                                                                  ('cat',\n",
       "                                                                   Pipeline(steps=[('imputer',\n",
       "                                                                                    SimpleImputer(strategy='most_frequent')),\n",
       "                                                                                   ('one_hot',\n",
       "                                                                                    OneHotEncoder())]),\n",
       "                                                                   ['HomePlanet',\n",
       "                                                                    'CryoSleep',\n",
       "                                                                    'Destination',\n",
       "                                                                    'VIP',\n",
       "                                                                    'group_size_bin',\n",
       "                                                                    'deck',\n",
       "                                                                    'side'])]))])),\n",
       "                ('vc',\n",
       "                 VotingClassifier(estimators=[('log_reg',\n",
       "                                               LogisticRegression(random_state=123)),\n",
       "                                              ('svm_pk', SVC(kernel='poly')),\n",
       "                                              ('cat_lr',\n",
       "                                               DecisionTreeClassifier(max_depth=9,\n",
       "                                                                      min_samples_leaf=15,\n",
       "                                                                      random_state=584))]))])"
      ]
     },
     "execution_count": 20,
     "metadata": {},
     "output_type": "execute_result"
    }
   ],
   "source": [
    "clf_vc.fit(X_train, y_train)"
   ]
  },
  {
   "cell_type": "code",
   "execution_count": 21,
   "metadata": {},
   "outputs": [],
   "source": [
    "y_pred_vc = clf_vc.predict(X_train)"
   ]
  },
  {
   "cell_type": "code",
   "execution_count": 22,
   "metadata": {},
   "outputs": [],
   "source": [
    "model_score_vc = dict()\n",
    "model_score_vc = add_metrics(model_score_vc, y_train, y_pred_vc, \"vc_1\")"
   ]
  },
  {
   "cell_type": "code",
   "execution_count": 23,
   "metadata": {},
   "outputs": [
    {
     "name": "stdout",
     "output_type": "stream",
     "text": [
      "Accuracy is 0.81.\n",
      "When the model claims a passenger was transported to another dimension, it is correct 80.2 % of the time (precision).\n",
      "The model detects 81.20 % of the passengers that were transported to another dimension (recall).\n",
      "The F1 score is 80.70.\n"
     ]
    }
   ],
   "source": [
    "print_metrics(model_score_vc[\"vc_1\"])"
   ]
  },
  {
   "cell_type": "code",
   "execution_count": 24,
   "metadata": {},
   "outputs": [
    {
     "data": {
      "image/png": "[encoded data removed]",
      "text/plain": [
       "<Figure size 432x288 with 2 Axes>"
      ]
     },
     "metadata": {
      "needs_background": "light"
     },
     "output_type": "display_data"
    }
   ],
   "source": [
    "display_cm(model_score_vc[\"vc_1\"][\"confusion_matrix\"])"
   ]
  },
  {
   "attachments": {},
   "cell_type": "markdown",
   "metadata": {},
   "source": [
    "# Cross Validation"
   ]
  },
  {
   "cell_type": "code",
   "execution_count": 25,
   "metadata": {},
   "outputs": [],
   "source": [
    "# Logistic Regression\n",
    "log_clf = Pipeline([\n",
    "    # Pre-processing pipeline\n",
    "    (\"preparation\", full_pipeline),\n",
    "    # Voting Classifier\n",
    "    (\"log\", LogisticRegression(random_state=123))])\n",
    "\n",
    "# SVM\n",
    "svm_pk_clf = Pipeline([\n",
    "    # Pre-processing pipeline\n",
    "    (\"preparation\", full_pipeline),\n",
    "    # Voting Classifier\n",
    "    (\"svm\", SVC(kernel=\"poly\", degree=3))])\n",
    "\n",
    "# Decision Tree\n",
    "tree_clf = Pipeline([\n",
    "    # Pre-processing pipeline\n",
    "    (\"preparation\", full_pipeline),\n",
    "    # Voting Classifier\n",
    "    (\"tree\", DecisionTreeClassifier(max_depth=9, min_samples_leaf=15, random_state=584))])\n",
    "\n",
    "# Voting Classifier (hard)\n",
    "vc_hard = VotingClassifier(\n",
    "    estimators=[\n",
    "        (\"log_reg\", LogisticRegression(random_state=123)),\n",
    "        ('svm_pk', SVC(kernel=\"poly\", degree=3)),\n",
    "        ('cat_lr', DecisionTreeClassifier(max_depth=9, min_samples_leaf=15, random_state=584))],\n",
    "    voting=\"hard\")\n",
    "\n",
    "vc_clf_hard = Pipeline([\n",
    "    # Pre-processing pipeline\n",
    "    (\"preparation\", full_pipeline),\n",
    "    # Voting Classifier\n",
    "    (\"vc\", vc_hard)])\n",
    "\n",
    "\n",
    "# Voting Classifier (soft)\n",
    "vc_soft = VotingClassifier(\n",
    "    estimators=[\n",
    "        (\"log_reg\", LogisticRegression(random_state=123)),\n",
    "        ('svm_pk', SVC(kernel=\"poly\", degree=3, probability=True)),\n",
    "        ('cat_lr', DecisionTreeClassifier(max_depth=9, min_samples_leaf=15, random_state=584))],\n",
    "    voting=\"soft\")\n",
    "\n",
    "vc_clf_soft = Pipeline([\n",
    "    # Pre-processing pipeline\n",
    "    (\"preparation\", full_pipeline),\n",
    "    # Voting Classifier\n",
    "    (\"vc\", vc_soft)])"
   ]
  },
  {
   "cell_type": "code",
   "execution_count": 26,
   "metadata": {},
   "outputs": [
    {
     "name": "stdout",
     "output_type": "stream",
     "text": [
      "Accuracy: 0.79 (+/- 0.01) [Logistic Regression]\n",
      "Accuracy: 0.79 (+/- 0.01) [SVM poly kernel]\n",
      "Accuracy: 0.78 (+/- 0.01) [Decision Tree]\n",
      "Accuracy: 0.79 (+/- 0.01) [Voting Classifier (hard)]\n",
      "Accuracy: 0.80 (+/- 0.01) [Voting Classifier (soft)]\n"
     ]
    }
   ],
   "source": [
    "models = [log_clf, svm_pk_clf, tree_clf, vc_clf_hard, vc_clf_soft]\n",
    "models_names = ['Logistic Regression', 'SVM poly kernel', 'Decision Tree', 'Voting Classifier (hard)', 'Voting Classifier (soft)']\n",
    "\n",
    "for clf, label in zip(models, models_names):\n",
    "    scores = cross_val_score(clf, X_train, y_train, scoring='accuracy', cv=5)\n",
    "    print(f\"Accuracy: {scores.mean():.2f} (+/- {scores.std():.2f}) [{label}]\")"
   ]
  }
 ],
 "metadata": {
  "kernelspec": {
   "display_name": "Python 3",
   "language": "python",
   "name": "python3"
  },
  "language_info": {
   "codemirror_mode": {
    "name": "ipython",
    "version": 3
   },
   "file_extension": ".py",
   "mimetype": "text/x-python",
   "name": "python",
   "nbconvert_exporter": "python",
   "pygments_lexer": "ipython3",
   "version": "3.9.5"
  },
  "orig_nbformat": 4
 },
 "nbformat": 4,
 "nbformat_minor": 2
}
