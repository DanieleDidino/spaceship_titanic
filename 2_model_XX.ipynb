{
 "cells": [
  {
   "attachments": {},
   "cell_type": "markdown",
   "metadata": {},
   "source": [
    "# Spaceship Titanic dataset (Kaggle)\n",
    "\n",
    "\n",
    "Variables description:\n",
    "\n",
    "- `PassengerId`: unique Id for each passenger. Each Id takes the form `gggg_pp` where `gggg` indicates a group the passenger is travelling with and `pp` is their number within the group. People in a group are often family members, but not always.\n",
    " \n",
    "- `HomePlanet`: The planet the passenger departed from, typically their planet of permanent residence.\n",
    " \n",
    "- `CryoSleep`: Indicates whether the passenger elected to be put into suspended animation for the duration of the voyage. Passengers in cryosleep are confined to their cabins.\n",
    "\n",
    "- `Cabin`: The cabin number where the passenger is staying. Takes the form deck/num/side, where side can be either P for Port or S for Starboard.\n",
    "\n",
    "- `deck`, `num`, `side`: The deck, num and side information from **Cabin** column.\n",
    "  \n",
    "- `Destination`: The planet the passenger will be debarking to.\n",
    "\n",
    "- `Age`: The age of the passenger.\n",
    "  \n",
    "- `VIP`: Whether the passenger has paid for special VIP service during the voyage.\n",
    "\n",
    "- `RoomService`, `FoodCourt`, `ShoppingMall`, `Spa`, `VRDeck`: Amount the passenger has billed at each of the Spaceship Titanic's many luxury amenities.\n",
    "\n",
    "- `Name`: The first and last names of the passenger.\n",
    "\n",
    "- `Transported`: Whether the passenger was transported to another dimension. This is the target, the column you are trying to predict.\n",
    "\n",
    "-  `group`: The group the passenger is travelling with.\n",
    "\n",
    "- `group_n`: The number within the group (people in the same group are often family members, but not always).\n",
    "\n",
    "- `group_size`: The size of the group the passenger is travellin with (integer: 1 to 8).\n",
    "\n",
    "- `group_size_bin`: The size of the group the passenger is travellin with (category: \"g1\", \"g2\", \"g3\", \"g4more\", for 1, 2, 3 or 4-or-more, respectively).\n",
    "\n",
    "- `amenities_sum`, `amenities_mean`, `amenities_min`, `amenities_max`: The sum, mean, minimum and maximum of luxury amenities (from columns **RoomService**, **FoodCourt**, **ShoppingMall**, **Spa**, **VRDeck**)\n",
    "\n",
    "- `amenities_sum_bin`: The discrete intervals of **amenities_sum** column, where *low*=0, *medium*=(0,1450], *high*=(1450,np.inf]. The value \"1450\" is the 3rd quartile of **amenities_sum**."
   ]
  },
  {
   "attachments": {},
   "cell_type": "markdown",
   "metadata": {},
   "source": [
    "# Load libraries"
   ]
  },
  {
   "cell_type": "code",
   "execution_count": 1,
   "metadata": {},
   "outputs": [
    {
     "name": "stdout",
     "output_type": "stream",
     "text": [
      "sys: 3.9.5 (tags/v3.9.5:0a7dcbd, May  3 2021, 17:27:52) [MSC v.1928 64 bit (AMD64)]\n",
      "numpy: 1.24.2\n",
      "scipy: 1.10.1\n",
      "pandas: 1.5.3\n",
      "matplotlib: 3.7.1\n",
      "seaborns 0.12.2\n"
     ]
    }
   ],
   "source": [
    "from pathlib import Path\n",
    "import sys\n",
    "import numpy as np\n",
    "import scipy.stats\n",
    "import pandas as pd\n",
    "import matplotlib\n",
    "import matplotlib.pyplot as plt\n",
    "import seaborn as sns\n",
    "from sklearn.model_selection import train_test_split\n",
    "from sklearn.linear_model import LogisticRegression #, SGDClassifier\n",
    "# from sklearn.ensemble import RandomForestClassifier, VotingClassifier\n",
    "from sklearn.impute import SimpleImputer\n",
    "from sklearn.compose import ColumnTransformer\n",
    "from sklearn.base import BaseEstimator, TransformerMixin\n",
    "from sklearn.pipeline import Pipeline\n",
    "from sklearn.preprocessing import StandardScaler, OneHotEncoder\n",
    "from sklearn.metrics import accuracy_score, confusion_matrix\n",
    "from sklearn.metrics import ConfusionMatrixDisplay\n",
    "# from sklearn.model_selection import GridSearchCV, StratifiedShuffleSplit\n",
    "\n",
    "np.random.seed(123)\n",
    "\n",
    "# Python version\n",
    "print(f\"sys: {sys.version}\")\n",
    "print(f\"numpy: {np.__version__}\")\n",
    "print(f\"scipy: {scipy.__version__}\")\n",
    "print(f\"pandas: {pd.__version__}\")\n",
    "print(f\"matplotlib: {matplotlib.__version__}\")\n",
    "print(f\"seaborns {sns.__version__}\")"
   ]
  },
  {
   "attachments": {},
   "cell_type": "markdown",
   "metadata": {},
   "source": [
    "# Load data"
   ]
  },
  {
   "cell_type": "code",
   "execution_count": 2,
   "metadata": {},
   "outputs": [
    {
     "name": "stdout",
     "output_type": "stream",
     "text": [
      "Shape: (8693, 14)\n"
     ]
    }
   ],
   "source": [
    "# Load the dataset\n",
    "def load_ds(path: Path, filename: str) -> pd.DataFrame:\n",
    "    \"\"\"Read the dataset csv file as a pandas dataframe.\"\"\"\n",
    "    return pd.read_csv(path / filename)\n",
    "\n",
    "# Load dataset\n",
    "dataset_path = Path().absolute() / \"data\"\n",
    "filename = \"train.csv\"\n",
    "data_loaded = load_ds(dataset_path, filename)\n",
    "print(f\"Shape: {data_loaded.shape}\")"
   ]
  },
  {
   "cell_type": "code",
   "execution_count": 3,
   "metadata": {},
   "outputs": [
    {
     "name": "stdout",
     "output_type": "stream",
     "text": [
      "Index(['PassengerId', 'HomePlanet', 'CryoSleep', 'Cabin', 'Destination', 'Age',\n",
      "       'VIP', 'RoomService', 'FoodCourt', 'ShoppingMall', 'Spa', 'VRDeck',\n",
      "       'Name', 'Transported'],\n",
      "      dtype='object')\n"
     ]
    }
   ],
   "source": [
    "print(data_loaded.columns)"
   ]
  },
  {
   "cell_type": "code",
   "execution_count": 4,
   "metadata": {},
   "outputs": [
    {
     "name": "stdout",
     "output_type": "stream",
     "text": [
      "<class 'pandas.core.frame.DataFrame'>\n",
      "RangeIndex: 8693 entries, 0 to 8692\n",
      "Data columns (total 14 columns):\n",
      " #   Column        Non-Null Count  Dtype  \n",
      "---  ------        --------------  -----  \n",
      " 0   PassengerId   8693 non-null   object \n",
      " 1   HomePlanet    8492 non-null   object \n",
      " 2   CryoSleep     8476 non-null   object \n",
      " 3   Cabin         8494 non-null   object \n",
      " 4   Destination   8511 non-null   object \n",
      " 5   Age           8514 non-null   float64\n",
      " 6   VIP           8490 non-null   object \n",
      " 7   RoomService   8512 non-null   float64\n",
      " 8   FoodCourt     8510 non-null   float64\n",
      " 9   ShoppingMall  8485 non-null   float64\n",
      " 10  Spa           8510 non-null   float64\n",
      " 11  VRDeck        8505 non-null   float64\n",
      " 12  Name          8493 non-null   object \n",
      " 13  Transported   8693 non-null   bool   \n",
      "dtypes: bool(1), float64(6), object(7)\n",
      "memory usage: 891.5+ KB\n"
     ]
    }
   ],
   "source": [
    "data_loaded.info()"
   ]
  },
  {
   "attachments": {},
   "cell_type": "markdown",
   "metadata": {},
   "source": [
    "# Split train and test set"
   ]
  },
  {
   "cell_type": "code",
   "execution_count": 5,
   "metadata": {},
   "outputs": [
    {
     "name": "stdout",
     "output_type": "stream",
     "text": [
      "shape data: (8693, 14)\n",
      "\n",
      "8693 * 0.8 = 6954.400000000001\n",
      "shape X_y_train: (6954, 14)\n",
      "\n",
      "8693 * 0.2 = 1738.6000000000001\n",
      "shape X_y_test:  (1739, 14)\n"
     ]
    }
   ],
   "source": [
    "X_y_train, X_y_test  = train_test_split(data_loaded, test_size=0.2, random_state=123, shuffle=True)\n",
    "\n",
    "print(f\"shape data: {data_loaded.shape}\")\n",
    "\n",
    "print(f\"\\n{data_loaded.shape[0]} * 0.8 = {data_loaded.shape[0] * 0.8}\")\n",
    "print(f\"shape X_y_train: {X_y_train.shape}\")\n",
    "\n",
    "print(f\"\\n{data_loaded.shape[0]} * 0.2 = {data_loaded.shape[0] * 0.2}\")\n",
    "print(f\"shape X_y_test:  {X_y_test.shape}\")"
   ]
  },
  {
   "cell_type": "code",
   "execution_count": 6,
   "metadata": {},
   "outputs": [
    {
     "name": "stdout",
     "output_type": "stream",
     "text": [
      "shape X_train: (6954, 13)\n",
      "shape y_train: (6954,)\n",
      "shape X_test: (1739, 13)\n",
      "shape y_test: (1739,)\n"
     ]
    }
   ],
   "source": [
    "# NOTE: \"drop()\" create a copy of the data original dataset\n",
    "X_train = X_y_train.drop([\"Transported\"], axis=1)\n",
    "y_train = X_y_train.loc[:, \"Transported\"].copy()\n",
    "\n",
    "# NOTE: \"drop()\" create a copy of the data original dataset\n",
    "X_test = X_y_test.drop([\"Transported\"], axis=1)\n",
    "y_test = X_y_test.loc[:, \"Transported\"].copy()\n",
    "\n",
    "print(f\"shape X_train: {X_train.shape}\")\n",
    "print(f\"shape y_train: {y_train.shape}\")\n",
    "\n",
    "print(f\"shape X_test: {X_test.shape}\")\n",
    "print(f\"shape y_test: {y_test.shape}\")"
   ]
  },
  {
   "attachments": {},
   "cell_type": "markdown",
   "metadata": {},
   "source": [
    "# Define pipelines"
   ]
  },
  {
   "cell_type": "code",
   "execution_count": 7,
   "metadata": {},
   "outputs": [],
   "source": [
    "# Define columns to convert\n",
    "c_cat = [\"HomePlanet\", \"Cabin\", \"Destination\"]\n",
    "c_str = [\"PassengerId\", \"Name\"]\n",
    "# c_bool = [\"CryoSleep\", \"VIP\"]"
   ]
  },
  {
   "cell_type": "code",
   "execution_count": 8,
   "metadata": {},
   "outputs": [],
   "source": [
    "# Function to convert data type & add column\n",
    "def convert_df(df_in: pd.DataFrame,\n",
    "               col_cat: list[str],\n",
    "               col_str: list[str],\n",
    "               # col_bool: list[str]\n",
    " ) -> pd.DataFrame:\n",
    "    \"\"\"Converts the specified columns to categorical, string or bool types.\"\"\"\n",
    "\n",
    "    df_out = df_in.copy()\n",
    "\n",
    "    for column in col_cat:\n",
    "        df_out[column] = df_out[column].astype(\"category\")\n",
    "    \n",
    "    for column in col_str:\n",
    "        df_out[column] = df_out[column].astype(\"string\")\n",
    "\n",
    "    # NOTE: EXCLUDED because \"SimpleImputer\" does not support data with dtype bool\n",
    "    # for column in col_bool:\n",
    "    #     df_out[column] = df_out[column].astype(\"bool\")\n",
    "\n",
    "    return df_out"
   ]
  },
  {
   "attachments": {},
   "cell_type": "markdown",
   "metadata": {},
   "source": [
    "## CombinedAttributesAdder\n",
    "\n",
    "Define a class that transforms and select various features."
   ]
  },
  {
   "cell_type": "code",
   "execution_count": 9,
   "metadata": {},
   "outputs": [],
   "source": [
    "# TransformerMixin: add method \".fit_transform()\"\n",
    "# BaseEstimator: add methods \".get_params()\" and \".set_params()\"\n",
    "# We need 3 methods:\n",
    "# 1) .fit()\n",
    "# 2) .transform()\n",
    "# 3) .fit_transform() (provided by \"TransformerMixin\")\n",
    "class CombinedAttributesAdder(BaseEstimator, TransformerMixin):\n",
    "    # avoid '*args' or \"**kargs\" in \"__init__\"\n",
    "    def __init__(self):\n",
    "        pass\n",
    "\n",
    "    # fit is needed later for the pipilene\n",
    "    def fit(self, X, y=None):\n",
    "        return self\n",
    "    \n",
    "    def transform(self, X):\n",
    "        # Convert column type\n",
    "        X = convert_df(\n",
    "            df_in=X,\n",
    "            col_cat=c_cat,\n",
    "            col_str=c_str,\n",
    "            #col_bool=c_bool,\n",
    "        )\n",
    "\n",
    "        # Add \"group\" and \"group_n\"\n",
    "        X[[\"group\", \"group_n\"]] = X.PassengerId.str.split(\"_\", expand=True)\n",
    "\n",
    "        # Add \"group_size\" (a column with the size of the group)\n",
    "        count_group_size = (\n",
    "             X\n",
    "             .value_counts([\"group\"], sort=False)\n",
    "             .rename(\"group_size\")\n",
    "             .reset_index()\n",
    "        )\n",
    "        X = pd.merge(X, count_group_size, how=\"left\", on=\"group\")\n",
    "\n",
    "        # Add \"group_size_bin\"\n",
    "        X.loc[:, \"group_size_bin\"] = np.nan\n",
    "        X.loc[X.group_size == 1, \"group_size_bin\"] = \"g1\"\n",
    "        X.loc[X.group_size == 2, \"group_size_bin\"] = \"g2\"\n",
    "        X.loc[X.group_size == 3, \"group_size_bin\"] = \"g3\"\n",
    "        X.loc[X.group_size >= 4, \"group_size_bin\"] = \"g4more\"\n",
    "        X[\"group_size_bin\"] = X[\"group_size_bin\"].astype(\"category\")\n",
    "\n",
    "        # Add \"deck\", \"num\" and \"side\"\n",
    "        X[[\"deck\", \"num\", \"side\"]] = X.Cabin.str.split(\"/\", expand=True)\n",
    "        X[\"deck\"] = X[\"deck\"].astype(\"category\")\n",
    "        X[\"num\"] = X[\"num\"].astype(\"string\")\n",
    "        X[\"side\"] = X[\"side\"].astype(\"category\")\n",
    "        \n",
    "        # Add \"amenities_sum\"\n",
    "        X[\"amenities_sum\"] = X[[\"RoomService\", \"FoodCourt\", \"ShoppingMall\", \"Spa\", \"VRDeck\"]].sum(axis=1)\n",
    "\n",
    "        # Add \"amenities_sum_bin\"\n",
    "        bins = [-np.inf, 0, 1450, np.inf]\n",
    "        names = [\"low\", \"medium\", \"high\"]\n",
    "        X.loc[:, \"amenities_sum_bin\"] = pd.cut(X.amenities_sum, bins=bins, labels=names)\n",
    "\n",
    "        # Drop unused columns\n",
    "        cols_to_drop = ['PassengerId', 'Cabin', 'RoomService', 'FoodCourt',\n",
    "                        'ShoppingMall', 'Spa', 'VRDeck', 'Name', 'group',\n",
    "                        'group_n', 'group_size', 'num', 'amenities_sum']\n",
    "        X.drop(columns=cols_to_drop, inplace=True)\n",
    "\n",
    "        return X"
   ]
  },
  {
   "cell_type": "code",
   "execution_count": 10,
   "metadata": {},
   "outputs": [
    {
     "name": "stdout",
     "output_type": "stream",
     "text": [
      "<class 'pandas.core.frame.DataFrame'>\n",
      "Int64Index: 6954 entries, 0 to 6953\n",
      "Data columns (total 9 columns):\n",
      " #   Column             Non-Null Count  Dtype   \n",
      "---  ------             --------------  -----   \n",
      " 0   HomePlanet         6789 non-null   category\n",
      " 1   CryoSleep          6782 non-null   object  \n",
      " 2   Destination        6805 non-null   category\n",
      " 3   Age                6809 non-null   float64 \n",
      " 4   VIP                6800 non-null   object  \n",
      " 5   group_size_bin     6954 non-null   category\n",
      " 6   deck               6795 non-null   category\n",
      " 7   side               6795 non-null   category\n",
      " 8   amenities_sum_bin  6954 non-null   category\n",
      "dtypes: category(6), float64(1), object(2)\n",
      "memory usage: 259.1+ KB\n"
     ]
    }
   ],
   "source": [
    "p1 = CombinedAttributesAdder()\n",
    "df_test = p1.fit_transform(X_train)\n",
    "df_test.info()"
   ]
  },
  {
   "cell_type": "code",
   "execution_count": 11,
   "metadata": {},
   "outputs": [
    {
     "data": {
      "text/plain": [
       "HomePlanet           165\n",
       "CryoSleep            172\n",
       "Destination          149\n",
       "Age                  145\n",
       "VIP                  154\n",
       "group_size_bin         0\n",
       "deck                 159\n",
       "side                 159\n",
       "amenities_sum_bin      0\n",
       "dtype: int64"
      ]
     },
     "execution_count": 11,
     "metadata": {},
     "output_type": "execute_result"
    }
   ],
   "source": [
    "pd.isna(df_test).sum(axis=0)"
   ]
  },
  {
   "attachments": {},
   "cell_type": "markdown",
   "metadata": {},
   "source": [
    "## num_pipeline\n",
    "\n",
    "It preprocesses the numerical attributes with `SimpleImputer()` and `StandardScaler()`."
   ]
  },
  {
   "cell_type": "code",
   "execution_count": 12,
   "metadata": {},
   "outputs": [
    {
     "name": "stdout",
     "output_type": "stream",
     "text": [
      "               Age\n",
      "count  6809.000000\n",
      "mean     28.767367\n",
      "std      14.479764\n",
      "min       0.000000\n",
      "25%      19.000000\n",
      "50%      27.000000\n",
      "75%      37.000000\n",
      "max      79.000000\n"
     ]
    }
   ],
   "source": [
    "print(df_test.describe())"
   ]
  },
  {
   "cell_type": "code",
   "execution_count": 13,
   "metadata": {},
   "outputs": [
    {
     "data": {
      "image/png": "[encoded data removed]",
      "text/plain": [
       "<Figure size 1440x576 with 1 Axes>"
      ]
     },
     "metadata": {
      "needs_background": "light"
     },
     "output_type": "display_data"
    }
   ],
   "source": [
    "plt.figure(figsize=(20, 8))\n",
    "sns.histplot(df_test.loc[:, [\"Age\"]], bins=20)\n",
    "plt.axvline(df_test.Age.mean(), color='red')\n",
    "plt.show()"
   ]
  },
  {
   "cell_type": "code",
   "execution_count": 14,
   "metadata": {},
   "outputs": [],
   "source": [
    "# All (except the last) estimators must be transformers (i.e., they\n",
    "# must have a \".fit_transform()\" method).\n",
    "num_pipeline = Pipeline([\n",
    "    # replace NA with mean\n",
    "    ('imputer', SimpleImputer(strategy='mean')),\n",
    "    # standardize the variables: z = (x - mean) / SD\n",
    "    ('std_scaler', StandardScaler())])"
   ]
  },
  {
   "cell_type": "code",
   "execution_count": 15,
   "metadata": {},
   "outputs": [
    {
     "name": "stdout",
     "output_type": "stream",
     "text": [
      "Shape: (6954, 1)\n",
      "number of NaN: 0\n"
     ]
    }
   ],
   "source": [
    "age = num_pipeline.fit_transform(df_test.loc[:, [\"Age\"]])\n",
    "print(f\"Shape: {age.shape}\")\n",
    "print(f\"number of NaN: {np.sum(np.isnan(age))}\")"
   ]
  },
  {
   "cell_type": "code",
   "execution_count": 16,
   "metadata": {},
   "outputs": [
    {
     "data": {
      "image/png": "[encoded data removed]",
      "text/plain": [
       "<Figure size 1440x576 with 2 Axes>"
      ]
     },
     "metadata": {
      "needs_background": "light"
     },
     "output_type": "display_data"
    }
   ],
   "source": [
    "plt.figure(figsize=(20, 8))\n",
    "plt.subplot(121)\n",
    "sns.histplot(df_test.loc[:, [\"Age\"]], bins=20)\n",
    "plt.axvline(df_test.Age.mean(), color='red')\n",
    "plt.subplot(122)\n",
    "sns.histplot(age, bins=20)\n",
    "plt.axvline(age.mean(), color='red')\n",
    "plt.show()"
   ]
  },
  {
   "attachments": {},
   "cell_type": "markdown",
   "metadata": {},
   "source": [
    "## cat_pipeline\n",
    "\n",
    "It preprocesses the categorical attributed with `SimpleImputer()` and `OneHotEncoder()`."
   ]
  },
  {
   "cell_type": "code",
   "execution_count": 17,
   "metadata": {},
   "outputs": [],
   "source": [
    "# All (except the last) estimators must be transformers (i.e., they\n",
    "# must have a \".fit_transform()\" method).\n",
    "cat_pipeline = Pipeline([\n",
    "    # replace NA with mode\n",
    "    ('imputer', SimpleImputer(strategy='most_frequent')),\n",
    "    # apply \"OneHotEncoder()\"\n",
    "    ('one_hot', OneHotEncoder())])"
   ]
  },
  {
   "cell_type": "code",
   "execution_count": 18,
   "metadata": {},
   "outputs": [
    {
     "data": {
      "text/plain": [
       "HomePlanet           165\n",
       "CryoSleep            172\n",
       "Destination          149\n",
       "Age                  145\n",
       "VIP                  154\n",
       "group_size_bin         0\n",
       "deck                 159\n",
       "side                 159\n",
       "amenities_sum_bin      0\n",
       "dtype: int64"
      ]
     },
     "execution_count": 18,
     "metadata": {},
     "output_type": "execute_result"
    }
   ],
   "source": [
    "pd.isna(df_test).sum(axis=0)"
   ]
  },
  {
   "cell_type": "code",
   "execution_count": 19,
   "metadata": {},
   "outputs": [
    {
     "data": {
      "image/png": "[encoded data removed]",
      "text/plain": [
       "<Figure size 1080x576 with 4 Axes>"
      ]
     },
     "metadata": {
      "needs_background": "light"
     },
     "output_type": "display_data"
    }
   ],
   "source": [
    "cat_with_nan = [\"HomePlanet\", \"Destination\", \"deck\", \"side\"]\n",
    "\n",
    "plt.figure(figsize=(15 ,8))\n",
    "for i, feature in enumerate(cat_with_nan):\n",
    "    plot_me = (\n",
    "        df_test.loc[:, feature]\n",
    "       .value_counts(dropna=False)\n",
    "       .rename(\"count\")\n",
    "       .reset_index()\n",
    "       .rename(columns={\"index\":feature})\n",
    "    )\n",
    "    plot_me[plot_me.columns[0]] = (\n",
    "        plot_me[plot_me.columns[0]]\n",
    "        .cat\n",
    "        .add_categories(\"unknown\")\n",
    "        .fillna(\"unknown\")\n",
    "    )\n",
    "    plt.subplot(2, 2, i+1)\n",
    "    sns.barplot(data=plot_me, x=feature, y=\"count\")\n",
    "plt.show()"
   ]
  },
  {
   "cell_type": "code",
   "execution_count": 20,
   "metadata": {},
   "outputs": [
    {
     "name": "stdout",
     "output_type": "stream",
     "text": [
      "Shape: (6954,)\n",
      "Shape: (6954, 3)\n"
     ]
    }
   ],
   "source": [
    "cat_test = cat_pipeline.fit_transform(df_test.loc[:, [\"HomePlanet\"]])\n",
    "print(f\"Shape: {df_test.HomePlanet.shape}\")\n",
    "print(f\"Shape: {cat_test.shape}\")"
   ]
  },
  {
   "attachments": {},
   "cell_type": "markdown",
   "metadata": {},
   "source": [
    "## Combine pipelines"
   ]
  },
  {
   "cell_type": "code",
   "execution_count": 21,
   "metadata": {},
   "outputs": [],
   "source": [
    "list_num_attribs = ['Age']\n",
    "list_cat_attribs = [\"HomePlanet\", \"CryoSleep\", \"Destination\", \"VIP\",\n",
    "                    \"group_size_bin\", \"deck\", \"side\", \"amenities_sum_bin\"]"
   ]
  },
  {
   "cell_type": "code",
   "execution_count": 22,
   "metadata": {},
   "outputs": [],
   "source": [
    "# ColumnTransformer requires tuples with:\n",
    "# - a name\n",
    "# - a transformer\n",
    "# - a list of names (or indices) of columns to which the transformer is applied\n",
    "\n",
    "cols_transformer = ColumnTransformer([\n",
    "    # apply \"num_pipeline\" to numerical columns\n",
    "    ('num', num_pipeline, list_num_attribs),\n",
    "    # apply \"cat_pipeline\" to categorical columns\n",
    "    ('cat', cat_pipeline, list_cat_attribs)\n",
    "    ])"
   ]
  },
  {
   "cell_type": "code",
   "execution_count": 23,
   "metadata": {},
   "outputs": [],
   "source": [
    "full_pipeline = Pipeline([\n",
    "    # transform/add columns\n",
    "    ('attribs_adder', CombinedAttributesAdder()),\n",
    "    # Transform numerical and categorical attributes\n",
    "    (\"cols_transformer\", cols_transformer)])"
   ]
  },
  {
   "cell_type": "code",
   "execution_count": 24,
   "metadata": {},
   "outputs": [
    {
     "name": "stdout",
     "output_type": "stream",
     "text": [
      "{'memory': None, 'steps': [('attribs_adder', CombinedAttributesAdder()), ('cols_transformer', ColumnTransformer(transformers=[('num',\n",
      "                                 Pipeline(steps=[('imputer', SimpleImputer()),\n",
      "                                                 ('std_scaler',\n",
      "                                                  StandardScaler())]),\n",
      "                                 ['Age']),\n",
      "                                ('cat',\n",
      "                                 Pipeline(steps=[('imputer',\n",
      "                                                  SimpleImputer(strategy='most_frequent')),\n",
      "                                                 ('one_hot', OneHotEncoder())]),\n",
      "                                 ['HomePlanet', 'CryoSleep', 'Destination',\n",
      "                                  'VIP', 'group_size_bin', 'deck', 'side',\n",
      "                                  'amenities_sum_bin'])]))], 'verbose': False, 'attribs_adder': CombinedAttributesAdder(), 'cols_transformer': ColumnTransformer(transformers=[('num',\n",
      "                                 Pipeline(steps=[('imputer', SimpleImputer()),\n",
      "                                                 ('std_scaler',\n",
      "                                                  StandardScaler())]),\n",
      "                                 ['Age']),\n",
      "                                ('cat',\n",
      "                                 Pipeline(steps=[('imputer',\n",
      "                                                  SimpleImputer(strategy='most_frequent')),\n",
      "                                                 ('one_hot', OneHotEncoder())]),\n",
      "                                 ['HomePlanet', 'CryoSleep', 'Destination',\n",
      "                                  'VIP', 'group_size_bin', 'deck', 'side',\n",
      "                                  'amenities_sum_bin'])]), 'cols_transformer__n_jobs': None, 'cols_transformer__remainder': 'drop', 'cols_transformer__sparse_threshold': 0.3, 'cols_transformer__transformer_weights': None, 'cols_transformer__transformers': [('num', Pipeline(steps=[('imputer', SimpleImputer()), ('std_scaler', StandardScaler())]), ['Age']), ('cat', Pipeline(steps=[('imputer', SimpleImputer(strategy='most_frequent')),\n",
      "                ('one_hot', OneHotEncoder())]), ['HomePlanet', 'CryoSleep', 'Destination', 'VIP', 'group_size_bin', 'deck', 'side', 'amenities_sum_bin'])], 'cols_transformer__verbose': False, 'cols_transformer__verbose_feature_names_out': True, 'cols_transformer__num': Pipeline(steps=[('imputer', SimpleImputer()), ('std_scaler', StandardScaler())]), 'cols_transformer__cat': Pipeline(steps=[('imputer', SimpleImputer(strategy='most_frequent')),\n",
      "                ('one_hot', OneHotEncoder())]), 'cols_transformer__num__memory': None, 'cols_transformer__num__steps': [('imputer', SimpleImputer()), ('std_scaler', StandardScaler())], 'cols_transformer__num__verbose': False, 'cols_transformer__num__imputer': SimpleImputer(), 'cols_transformer__num__std_scaler': StandardScaler(), 'cols_transformer__num__imputer__add_indicator': False, 'cols_transformer__num__imputer__copy': True, 'cols_transformer__num__imputer__fill_value': None, 'cols_transformer__num__imputer__keep_empty_features': False, 'cols_transformer__num__imputer__missing_values': nan, 'cols_transformer__num__imputer__strategy': 'mean', 'cols_transformer__num__imputer__verbose': 'deprecated', 'cols_transformer__num__std_scaler__copy': True, 'cols_transformer__num__std_scaler__with_mean': True, 'cols_transformer__num__std_scaler__with_std': True, 'cols_transformer__cat__memory': None, 'cols_transformer__cat__steps': [('imputer', SimpleImputer(strategy='most_frequent')), ('one_hot', OneHotEncoder())], 'cols_transformer__cat__verbose': False, 'cols_transformer__cat__imputer': SimpleImputer(strategy='most_frequent'), 'cols_transformer__cat__one_hot': OneHotEncoder(), 'cols_transformer__cat__imputer__add_indicator': False, 'cols_transformer__cat__imputer__copy': True, 'cols_transformer__cat__imputer__fill_value': None, 'cols_transformer__cat__imputer__keep_empty_features': False, 'cols_transformer__cat__imputer__missing_values': nan, 'cols_transformer__cat__imputer__strategy': 'most_frequent', 'cols_transformer__cat__imputer__verbose': 'deprecated', 'cols_transformer__cat__one_hot__categories': 'auto', 'cols_transformer__cat__one_hot__drop': None, 'cols_transformer__cat__one_hot__dtype': <class 'numpy.float64'>, 'cols_transformer__cat__one_hot__handle_unknown': 'error', 'cols_transformer__cat__one_hot__max_categories': None, 'cols_transformer__cat__one_hot__min_frequency': None, 'cols_transformer__cat__one_hot__sparse': 'deprecated', 'cols_transformer__cat__one_hot__sparse_output': True}\n"
     ]
    }
   ],
   "source": [
    "# print(full_pipeline.get_params().keys())\n",
    "# print(full_pipeline.get_params().items())\n",
    "print(full_pipeline.get_params())\n"
   ]
  },
  {
   "cell_type": "code",
   "execution_count": 25,
   "metadata": {},
   "outputs": [
    {
     "name": "stdout",
     "output_type": "stream",
     "text": [
      "memory\n",
      "steps\n",
      "verbose\n",
      "attribs_adder\n",
      "cols_transformer\n",
      "cols_transformer__n_jobs\n",
      "cols_transformer__remainder\n",
      "cols_transformer__sparse_threshold\n",
      "cols_transformer__transformer_weights\n",
      "cols_transformer__transformers\n",
      "cols_transformer__verbose\n",
      "cols_transformer__verbose_feature_names_out\n",
      "cols_transformer__num\n",
      "cols_transformer__cat\n",
      "cols_transformer__num__memory\n",
      "cols_transformer__num__steps\n",
      "cols_transformer__num__verbose\n",
      "cols_transformer__num__imputer\n",
      "cols_transformer__num__std_scaler\n",
      "cols_transformer__num__imputer__add_indicator\n",
      "cols_transformer__num__imputer__copy\n",
      "cols_transformer__num__imputer__fill_value\n",
      "cols_transformer__num__imputer__keep_empty_features\n",
      "cols_transformer__num__imputer__missing_values\n",
      "cols_transformer__num__imputer__strategy\n",
      "cols_transformer__num__imputer__verbose\n",
      "cols_transformer__num__std_scaler__copy\n",
      "cols_transformer__num__std_scaler__with_mean\n",
      "cols_transformer__num__std_scaler__with_std\n",
      "cols_transformer__cat__memory\n",
      "cols_transformer__cat__steps\n",
      "cols_transformer__cat__verbose\n",
      "cols_transformer__cat__imputer\n",
      "cols_transformer__cat__one_hot\n",
      "cols_transformer__cat__imputer__add_indicator\n",
      "cols_transformer__cat__imputer__copy\n",
      "cols_transformer__cat__imputer__fill_value\n",
      "cols_transformer__cat__imputer__keep_empty_features\n",
      "cols_transformer__cat__imputer__missing_values\n",
      "cols_transformer__cat__imputer__strategy\n",
      "cols_transformer__cat__imputer__verbose\n",
      "cols_transformer__cat__one_hot__categories\n",
      "cols_transformer__cat__one_hot__drop\n",
      "cols_transformer__cat__one_hot__dtype\n",
      "cols_transformer__cat__one_hot__handle_unknown\n",
      "cols_transformer__cat__one_hot__max_categories\n",
      "cols_transformer__cat__one_hot__min_frequency\n",
      "cols_transformer__cat__one_hot__sparse\n",
      "cols_transformer__cat__one_hot__sparse_output\n"
     ]
    }
   ],
   "source": [
    "for i in full_pipeline.get_params().keys():\n",
    "    print(i)"
   ]
  },
  {
   "attachments": {},
   "cell_type": "markdown",
   "metadata": {},
   "source": [
    "# Baseline model"
   ]
  },
  {
   "cell_type": "code",
   "execution_count": 26,
   "metadata": {},
   "outputs": [],
   "source": [
    "clf_baseline = LogisticRegression()"
   ]
  },
  {
   "cell_type": "code",
   "execution_count": 27,
   "metadata": {},
   "outputs": [],
   "source": [
    "clf_baseline = Pipeline([\n",
    "    # Pre-processing pipeline\n",
    "    (\"preparation\", full_pipeline),\n",
    "    # Logistic regression (with default paramenters)\n",
    "    (\"log_reg\", LogisticRegression(random_state=123))])"
   ]
  },
  {
   "cell_type": "code",
   "execution_count": 28,
   "metadata": {},
   "outputs": [
    {
     "data": {
      "text/html": [
       "<style>#sk-container-id-1 {color: black;background-color: white;}#sk-container-id-1 pre{padding: 0;}#sk-container-id-1 div.sk-toggleable {background-color: white;}#sk-container-id-1 label.sk-toggleable__label {cursor: pointer;display: block;width: 100%;margin-bottom: 0;padding: 0.3em;box-sizing: border-box;text-align: center;}#sk-container-id-1 label.sk-toggleable__label-arrow:before {content: \"▸\";float: left;margin-right: 0.25em;color: #696969;}#sk-container-id-1 label.sk-toggleable__label-arrow:hover:before {color: black;}#sk-container-id-1 div.sk-estimator:hover label.sk-toggleable__label-arrow:before {color: black;}#sk-container-id-1 div.sk-toggleable__content {max-height: 0;max-width: 0;overflow: hidden;text-align: left;background-color: #f0f8ff;}#sk-container-id-1 div.sk-toggleable__content pre {margin: 0.2em;color: black;border-radius: 0.25em;background-color: #f0f8ff;}#sk-container-id-1 input.sk-toggleable__control:checked~div.sk-toggleable__content {max-height: 200px;max-width: 100%;overflow: auto;}#sk-container-id-1 input.sk-toggleable__control:checked~label.sk-toggleable__label-arrow:before {content: \"▾\";}#sk-container-id-1 div.sk-estimator input.sk-toggleable__control:checked~label.sk-toggleable__label {background-color: #d4ebff;}#sk-container-id-1 div.sk-label input.sk-toggleable__control:checked~label.sk-toggleable__label {background-color: #d4ebff;}#sk-container-id-1 input.sk-hidden--visually {border: 0;clip: rect(1px 1px 1px 1px);clip: rect(1px, 1px, 1px, 1px);height: 1px;margin: -1px;overflow: hidden;padding: 0;position: absolute;width: 1px;}#sk-container-id-1 div.sk-estimator {font-family: monospace;background-color: #f0f8ff;border: 1px dotted black;border-radius: 0.25em;box-sizing: border-box;margin-bottom: 0.5em;}#sk-container-id-1 div.sk-estimator:hover {background-color: #d4ebff;}#sk-container-id-1 div.sk-parallel-item::after {content: \"\";width: 100%;border-bottom: 1px solid gray;flex-grow: 1;}#sk-container-id-1 div.sk-label:hover label.sk-toggleable__label {background-color: #d4ebff;}#sk-container-id-1 div.sk-serial::before {content: \"\";position: absolute;border-left: 1px solid gray;box-sizing: border-box;top: 0;bottom: 0;left: 50%;z-index: 0;}#sk-container-id-1 div.sk-serial {display: flex;flex-direction: column;align-items: center;background-color: white;padding-right: 0.2em;padding-left: 0.2em;position: relative;}#sk-container-id-1 div.sk-item {position: relative;z-index: 1;}#sk-container-id-1 div.sk-parallel {display: flex;align-items: stretch;justify-content: center;background-color: white;position: relative;}#sk-container-id-1 div.sk-item::before, #sk-container-id-1 div.sk-parallel-item::before {content: \"\";position: absolute;border-left: 1px solid gray;box-sizing: border-box;top: 0;bottom: 0;left: 50%;z-index: -1;}#sk-container-id-1 div.sk-parallel-item {display: flex;flex-direction: column;z-index: 1;position: relative;background-color: white;}#sk-container-id-1 div.sk-parallel-item:first-child::after {align-self: flex-end;width: 50%;}#sk-container-id-1 div.sk-parallel-item:last-child::after {align-self: flex-start;width: 50%;}#sk-container-id-1 div.sk-parallel-item:only-child::after {width: 0;}#sk-container-id-1 div.sk-dashed-wrapped {border: 1px dashed gray;margin: 0 0.4em 0.5em 0.4em;box-sizing: border-box;padding-bottom: 0.4em;background-color: white;}#sk-container-id-1 div.sk-label label {font-family: monospace;font-weight: bold;display: inline-block;line-height: 1.2em;}#sk-container-id-1 div.sk-label-container {text-align: center;}#sk-container-id-1 div.sk-container {/* jupyter's `normalize.less` sets `[hidden] { display: none; }` but bootstrap.min.css set `[hidden] { display: none !important; }` so we also need the `!important` here to be able to override the default hidden behavior on the sphinx rendered scikit-learn.org. See: https://github.com/scikit-learn/scikit-learn/issues/21755 */display: inline-block !important;position: relative;}#sk-container-id-1 div.sk-text-repr-fallback {display: none;}</style><div id=\"sk-container-id-1\" class=\"sk-top-container\"><div class=\"sk-text-repr-fallback\"><pre>Pipeline(steps=[(&#x27;preparation&#x27;,\n",
       "                 Pipeline(steps=[(&#x27;attribs_adder&#x27;, CombinedAttributesAdder()),\n",
       "                                 (&#x27;cols_transformer&#x27;,\n",
       "                                  ColumnTransformer(transformers=[(&#x27;num&#x27;,\n",
       "                                                                   Pipeline(steps=[(&#x27;imputer&#x27;,\n",
       "                                                                                    SimpleImputer()),\n",
       "                                                                                   (&#x27;std_scaler&#x27;,\n",
       "                                                                                    StandardScaler())]),\n",
       "                                                                   [&#x27;Age&#x27;]),\n",
       "                                                                  (&#x27;cat&#x27;,\n",
       "                                                                   Pipeline(steps=[(&#x27;imputer&#x27;,\n",
       "                                                                                    SimpleImputer(strategy=&#x27;most_frequent&#x27;)),\n",
       "                                                                                   (&#x27;one_hot&#x27;,\n",
       "                                                                                    OneHotEncoder())]),\n",
       "                                                                   [&#x27;HomePlanet&#x27;,\n",
       "                                                                    &#x27;CryoSleep&#x27;,\n",
       "                                                                    &#x27;Destination&#x27;,\n",
       "                                                                    &#x27;VIP&#x27;,\n",
       "                                                                    &#x27;group_size_bin&#x27;,\n",
       "                                                                    &#x27;deck&#x27;,\n",
       "                                                                    &#x27;side&#x27;,\n",
       "                                                                    &#x27;amenities_sum_bin&#x27;])]))])),\n",
       "                (&#x27;log_reg&#x27;, LogisticRegression(random_state=123))])</pre><b>In a Jupyter environment, please rerun this cell to show the HTML representation or trust the notebook. <br />On GitHub, the HTML representation is unable to render, please try loading this page with nbviewer.org.</b></div><div class=\"sk-container\" hidden><div class=\"sk-item sk-dashed-wrapped\"><div class=\"sk-label-container\"><div class=\"sk-label sk-toggleable\"><input class=\"sk-toggleable__control sk-hidden--visually\" id=\"sk-estimator-id-1\" type=\"checkbox\" ><label for=\"sk-estimator-id-1\" class=\"sk-toggleable__label sk-toggleable__label-arrow\">Pipeline</label><div class=\"sk-toggleable__content\"><pre>Pipeline(steps=[(&#x27;preparation&#x27;,\n",
       "                 Pipeline(steps=[(&#x27;attribs_adder&#x27;, CombinedAttributesAdder()),\n",
       "                                 (&#x27;cols_transformer&#x27;,\n",
       "                                  ColumnTransformer(transformers=[(&#x27;num&#x27;,\n",
       "                                                                   Pipeline(steps=[(&#x27;imputer&#x27;,\n",
       "                                                                                    SimpleImputer()),\n",
       "                                                                                   (&#x27;std_scaler&#x27;,\n",
       "                                                                                    StandardScaler())]),\n",
       "                                                                   [&#x27;Age&#x27;]),\n",
       "                                                                  (&#x27;cat&#x27;,\n",
       "                                                                   Pipeline(steps=[(&#x27;imputer&#x27;,\n",
       "                                                                                    SimpleImputer(strategy=&#x27;most_frequent&#x27;)),\n",
       "                                                                                   (&#x27;one_hot&#x27;,\n",
       "                                                                                    OneHotEncoder())]),\n",
       "                                                                   [&#x27;HomePlanet&#x27;,\n",
       "                                                                    &#x27;CryoSleep&#x27;,\n",
       "                                                                    &#x27;Destination&#x27;,\n",
       "                                                                    &#x27;VIP&#x27;,\n",
       "                                                                    &#x27;group_size_bin&#x27;,\n",
       "                                                                    &#x27;deck&#x27;,\n",
       "                                                                    &#x27;side&#x27;,\n",
       "                                                                    &#x27;amenities_sum_bin&#x27;])]))])),\n",
       "                (&#x27;log_reg&#x27;, LogisticRegression(random_state=123))])</pre></div></div></div><div class=\"sk-serial\"><div class=\"sk-item\"><div class=\"sk-label-container\"><div class=\"sk-label sk-toggleable\"><input class=\"sk-toggleable__control sk-hidden--visually\" id=\"sk-estimator-id-2\" type=\"checkbox\" ><label for=\"sk-estimator-id-2\" class=\"sk-toggleable__label sk-toggleable__label-arrow\">preparation: Pipeline</label><div class=\"sk-toggleable__content\"><pre>Pipeline(steps=[(&#x27;attribs_adder&#x27;, CombinedAttributesAdder()),\n",
       "                (&#x27;cols_transformer&#x27;,\n",
       "                 ColumnTransformer(transformers=[(&#x27;num&#x27;,\n",
       "                                                  Pipeline(steps=[(&#x27;imputer&#x27;,\n",
       "                                                                   SimpleImputer()),\n",
       "                                                                  (&#x27;std_scaler&#x27;,\n",
       "                                                                   StandardScaler())]),\n",
       "                                                  [&#x27;Age&#x27;]),\n",
       "                                                 (&#x27;cat&#x27;,\n",
       "                                                  Pipeline(steps=[(&#x27;imputer&#x27;,\n",
       "                                                                   SimpleImputer(strategy=&#x27;most_frequent&#x27;)),\n",
       "                                                                  (&#x27;one_hot&#x27;,\n",
       "                                                                   OneHotEncoder())]),\n",
       "                                                  [&#x27;HomePlanet&#x27;, &#x27;CryoSleep&#x27;,\n",
       "                                                   &#x27;Destination&#x27;, &#x27;VIP&#x27;,\n",
       "                                                   &#x27;group_size_bin&#x27;, &#x27;deck&#x27;,\n",
       "                                                   &#x27;side&#x27;,\n",
       "                                                   &#x27;amenities_sum_bin&#x27;])]))])</pre></div></div></div><div class=\"sk-serial\"><div class=\"sk-item\"><div class=\"sk-estimator sk-toggleable\"><input class=\"sk-toggleable__control sk-hidden--visually\" id=\"sk-estimator-id-3\" type=\"checkbox\" ><label for=\"sk-estimator-id-3\" class=\"sk-toggleable__label sk-toggleable__label-arrow\">CombinedAttributesAdder</label><div class=\"sk-toggleable__content\"><pre>CombinedAttributesAdder()</pre></div></div></div><div class=\"sk-item sk-dashed-wrapped\"><div class=\"sk-label-container\"><div class=\"sk-label sk-toggleable\"><input class=\"sk-toggleable__control sk-hidden--visually\" id=\"sk-estimator-id-4\" type=\"checkbox\" ><label for=\"sk-estimator-id-4\" class=\"sk-toggleable__label sk-toggleable__label-arrow\">cols_transformer: ColumnTransformer</label><div class=\"sk-toggleable__content\"><pre>ColumnTransformer(transformers=[(&#x27;num&#x27;,\n",
       "                                 Pipeline(steps=[(&#x27;imputer&#x27;, SimpleImputer()),\n",
       "                                                 (&#x27;std_scaler&#x27;,\n",
       "                                                  StandardScaler())]),\n",
       "                                 [&#x27;Age&#x27;]),\n",
       "                                (&#x27;cat&#x27;,\n",
       "                                 Pipeline(steps=[(&#x27;imputer&#x27;,\n",
       "                                                  SimpleImputer(strategy=&#x27;most_frequent&#x27;)),\n",
       "                                                 (&#x27;one_hot&#x27;, OneHotEncoder())]),\n",
       "                                 [&#x27;HomePlanet&#x27;, &#x27;CryoSleep&#x27;, &#x27;Destination&#x27;,\n",
       "                                  &#x27;VIP&#x27;, &#x27;group_size_bin&#x27;, &#x27;deck&#x27;, &#x27;side&#x27;,\n",
       "                                  &#x27;amenities_sum_bin&#x27;])])</pre></div></div></div><div class=\"sk-parallel\"><div class=\"sk-parallel-item\"><div class=\"sk-item\"><div class=\"sk-label-container\"><div class=\"sk-label sk-toggleable\"><input class=\"sk-toggleable__control sk-hidden--visually\" id=\"sk-estimator-id-5\" type=\"checkbox\" ><label for=\"sk-estimator-id-5\" class=\"sk-toggleable__label sk-toggleable__label-arrow\">num</label><div class=\"sk-toggleable__content\"><pre>[&#x27;Age&#x27;]</pre></div></div></div><div class=\"sk-serial\"><div class=\"sk-item\"><div class=\"sk-serial\"><div class=\"sk-item\"><div class=\"sk-estimator sk-toggleable\"><input class=\"sk-toggleable__control sk-hidden--visually\" id=\"sk-estimator-id-6\" type=\"checkbox\" ><label for=\"sk-estimator-id-6\" class=\"sk-toggleable__label sk-toggleable__label-arrow\">SimpleImputer</label><div class=\"sk-toggleable__content\"><pre>SimpleImputer()</pre></div></div></div><div class=\"sk-item\"><div class=\"sk-estimator sk-toggleable\"><input class=\"sk-toggleable__control sk-hidden--visually\" id=\"sk-estimator-id-7\" type=\"checkbox\" ><label for=\"sk-estimator-id-7\" class=\"sk-toggleable__label sk-toggleable__label-arrow\">StandardScaler</label><div class=\"sk-toggleable__content\"><pre>StandardScaler()</pre></div></div></div></div></div></div></div></div><div class=\"sk-parallel-item\"><div class=\"sk-item\"><div class=\"sk-label-container\"><div class=\"sk-label sk-toggleable\"><input class=\"sk-toggleable__control sk-hidden--visually\" id=\"sk-estimator-id-8\" type=\"checkbox\" ><label for=\"sk-estimator-id-8\" class=\"sk-toggleable__label sk-toggleable__label-arrow\">cat</label><div class=\"sk-toggleable__content\"><pre>[&#x27;HomePlanet&#x27;, &#x27;CryoSleep&#x27;, &#x27;Destination&#x27;, &#x27;VIP&#x27;, &#x27;group_size_bin&#x27;, &#x27;deck&#x27;, &#x27;side&#x27;, &#x27;amenities_sum_bin&#x27;]</pre></div></div></div><div class=\"sk-serial\"><div class=\"sk-item\"><div class=\"sk-serial\"><div class=\"sk-item\"><div class=\"sk-estimator sk-toggleable\"><input class=\"sk-toggleable__control sk-hidden--visually\" id=\"sk-estimator-id-9\" type=\"checkbox\" ><label for=\"sk-estimator-id-9\" class=\"sk-toggleable__label sk-toggleable__label-arrow\">SimpleImputer</label><div class=\"sk-toggleable__content\"><pre>SimpleImputer(strategy=&#x27;most_frequent&#x27;)</pre></div></div></div><div class=\"sk-item\"><div class=\"sk-estimator sk-toggleable\"><input class=\"sk-toggleable__control sk-hidden--visually\" id=\"sk-estimator-id-10\" type=\"checkbox\" ><label for=\"sk-estimator-id-10\" class=\"sk-toggleable__label sk-toggleable__label-arrow\">OneHotEncoder</label><div class=\"sk-toggleable__content\"><pre>OneHotEncoder()</pre></div></div></div></div></div></div></div></div></div></div></div></div><div class=\"sk-item\"><div class=\"sk-estimator sk-toggleable\"><input class=\"sk-toggleable__control sk-hidden--visually\" id=\"sk-estimator-id-11\" type=\"checkbox\" ><label for=\"sk-estimator-id-11\" class=\"sk-toggleable__label sk-toggleable__label-arrow\">LogisticRegression</label><div class=\"sk-toggleable__content\"><pre>LogisticRegression(random_state=123)</pre></div></div></div></div></div></div></div>"
      ],
      "text/plain": [
       "Pipeline(steps=[('preparation',\n",
       "                 Pipeline(steps=[('attribs_adder', CombinedAttributesAdder()),\n",
       "                                 ('cols_transformer',\n",
       "                                  ColumnTransformer(transformers=[('num',\n",
       "                                                                   Pipeline(steps=[('imputer',\n",
       "                                                                                    SimpleImputer()),\n",
       "                                                                                   ('std_scaler',\n",
       "                                                                                    StandardScaler())]),\n",
       "                                                                   ['Age']),\n",
       "                                                                  ('cat',\n",
       "                                                                   Pipeline(steps=[('imputer',\n",
       "                                                                                    SimpleImputer(strategy='most_frequent')),\n",
       "                                                                                   ('one_hot',\n",
       "                                                                                    OneHotEncoder())]),\n",
       "                                                                   ['HomePlanet',\n",
       "                                                                    'CryoSleep',\n",
       "                                                                    'Destination',\n",
       "                                                                    'VIP',\n",
       "                                                                    'group_size_bin',\n",
       "                                                                    'deck',\n",
       "                                                                    'side',\n",
       "                                                                    'amenities_sum_bin'])]))])),\n",
       "                ('log_reg', LogisticRegression(random_state=123))])"
      ]
     },
     "execution_count": 28,
     "metadata": {},
     "output_type": "execute_result"
    }
   ],
   "source": [
    "clf_baseline.fit(X_train, y_train)"
   ]
  },
  {
   "cell_type": "code",
   "execution_count": 29,
   "metadata": {},
   "outputs": [],
   "source": [
    "y_pred_baseline = clf_baseline.predict(X_train)"
   ]
  },
  {
   "cell_type": "code",
   "execution_count": 30,
   "metadata": {},
   "outputs": [
    {
     "data": {
      "text/plain": [
       "0.7364106988783434"
      ]
     },
     "execution_count": 30,
     "metadata": {},
     "output_type": "execute_result"
    }
   ],
   "source": [
    "accuracy_score(y_train, y_pred_baseline)"
   ]
  },
  {
   "cell_type": "code",
   "execution_count": 31,
   "metadata": {},
   "outputs": [
    {
     "data": {
      "text/plain": [
       "array([[2802,  662],\n",
       "       [1171, 2319]], dtype=int64)"
      ]
     },
     "execution_count": 31,
     "metadata": {},
     "output_type": "execute_result"
    }
   ],
   "source": [
    "cm_baseline = confusion_matrix(y_train, y_pred_baseline)\n",
    "cm_baseline"
   ]
  },
  {
   "cell_type": "code",
   "execution_count": 32,
   "metadata": {},
   "outputs": [
    {
     "data": {
      "image/png": "[encoded data removed]",
      "text/plain": [
       "<Figure size 432x288 with 2 Axes>"
      ]
     },
     "metadata": {
      "needs_background": "light"
     },
     "output_type": "display_data"
    }
   ],
   "source": [
    "disp = ConfusionMatrixDisplay(confusion_matrix=cm_baseline)\n",
    "disp.plot()\n",
    "plt.show()"
   ]
  }
 ],
 "metadata": {
  "kernelspec": {
   "display_name": "Python 3",
   "language": "python",
   "name": "python3"
  },
  "language_info": {
   "codemirror_mode": {
    "name": "ipython",
    "version": 3
   },
   "file_extension": ".py",
   "mimetype": "text/x-python",
   "name": "python",
   "nbconvert_exporter": "python",
   "pygments_lexer": "ipython3",
   "version": "3.9.5"
  },
  "orig_nbformat": 4
 },
 "nbformat": 4,
 "nbformat_minor": 2
}
